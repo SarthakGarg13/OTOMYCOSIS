{
 "cells": [
  {
   "cell_type": "code",
   "execution_count": null,
   "metadata": {},
   "outputs": [],
   "source": [
    "# !pip install opencv-python\n",
    "# !apt update && apt install -y libsm6 libxext6\n",
    "# !apt-get install -y libxrender-dev\n",
    "# !pip install scikit-image\n",
    "# !pip install keras\n",
    "# !pip install tensorflow\n",
    "# !pip install scikit-learn\n",
    "# !pip install pandas"
   ]
  },
  {
   "cell_type": "code",
   "execution_count": null,
   "metadata": {},
   "outputs": [],
   "source": [
    "import tensorflow as tf\n",
    "print(tf.__version__)"
   ]
  },
  {
   "cell_type": "code",
   "execution_count": null,
   "metadata": {
    "cellView": "both",
    "colab": {
     "base_uri": "https://localhost:8080/",
     "height": 34
    },
    "colab_type": "code",
    "id": "vELVS7JseEXr",
    "outputId": "d96a36ea-fa2d-4abc-ca23-1b89cf87d171"
   },
   "outputs": [],
   "source": [
    "#@title Importing Libraries\n",
    "import time\n",
    "import os\n",
    "import cv2\n",
    "import numpy as np\n",
    "from skimage import transform as tf\n",
    "import random\n",
    "import glob\n",
    "import tensorflow\n",
    "from tensorflow.keras.applications.inception_v3 import InceptionV3\n",
    "from tensorflow.keras.applications.xception import Xception\n",
    "from tensorflow.keras.applications.mobilenet_v2 import MobileNetV2\n",
    "from tensorflow.keras import optimizers, regularizers\n",
    "from tensorflow.keras.preprocessing.image import ImageDataGenerator\n",
    "from tensorflow.keras.models import Sequential\n",
    "from tensorflow.keras.layers import Conv2D, MaxPooling2D, GlobalAveragePooling2D\n",
    "from tensorflow.keras.layers import Activation, Dropout, Flatten, Dense\n",
    "from tensorflow.keras import backend as K\n",
    "from tensorflow.keras.preprocessing import image\n",
    "from tensorflow.keras.models import Model\n",
    "from sklearn.model_selection import train_test_split\n",
    "from sklearn.cluster import KMeans\n",
    "from sklearn.mixture import GaussianMixture\n",
    "from sklearn.decomposition import PCA\n",
    "from sklearn import preprocessing\n",
    "import pandas as pd\n",
    "import matplotlib.pyplot as plt\n",
    "from tensorflow.keras.models import load_model\n"
   ]
  },
  {
   "cell_type": "code",
   "execution_count": null,
   "metadata": {
    "colab": {
     "base_uri": "https://localhost:8080/",
     "height": 34
    },
    "colab_type": "code",
    "id": "owXwGox8jI87",
    "outputId": "a3322930-ce2f-4297-fefe-073ba8b085b8"
   },
   "outputs": [],
   "source": [
    "from google.colab import drive\n",
    "drive.mount('/content/drive')"
   ]
  },
  {
   "cell_type": "code",
   "execution_count": null,
   "metadata": {
    "colab": {},
    "colab_type": "code",
    "id": "iPwF-9glhK4G"
   },
   "outputs": [],
   "source": [
    "DIR = \"/content/drive/My Drive/ColabNotebooks/TM imagesCNN/\""
   ]
  },
  {
   "cell_type": "code",
   "execution_count": null,
   "metadata": {
    "colab": {
     "base_uri": "https://localhost:8080/",
     "height": 34
    },
    "colab_type": "code",
    "id": "89qsdk1rlyK5",
    "outputId": "2ea006a5-f842-4219-b82f-7b64bbe29d8e"
   },
   "outputs": [],
   "source": [
    "diseases = os.listdir(DIR)\n",
    "print(diseases)"
   ]
  },
  {
   "cell_type": "code",
   "execution_count": null,
   "metadata": {
    "colab": {
     "base_uri": "https://localhost:8080/",
     "height": 54
    },
    "colab_type": "code",
    "id": "0syc-_pdmFC7",
    "outputId": "82e9ac94-e9d4-48d4-c70e-4917664f9861"
   },
   "outputs": [],
   "source": [
    "for disease in diseases:\n",
    "        # get a list of subdirectories that start with this character\n",
    "        directory_list = (glob.glob(\"{}/*\".format(DIR, disease)))\n",
    "print(directory_list)"
   ]
  },
  {
   "cell_type": "code",
   "execution_count": null,
   "metadata": {
    "cellView": "both",
    "colab": {},
    "colab_type": "code",
    "id": "gSsfwZJaeHOs"
   },
   "outputs": [],
   "source": [
    "#@title Dataset Stats\n",
    "def dataset_stats():\n",
    "    \n",
    "    # This is an array with the all the diseases available in the directory.\n",
    "\n",
    "    diseases = os.listdir(DIR)\n",
    "    \n",
    "    # dictionary where we will store the stats\n",
    "    stats = []\n",
    "    \n",
    "    for disease in diseases:\n",
    "        # get a list of subdirectories that start with this character\n",
    "        directory_list = sorted(glob.glob(\"{}/*\".format(DIR, disease)))\n",
    "        \n",
    "    for sub_directory in directory_list:\n",
    "        file_names = [file for file in os.listdir(sub_directory)]\n",
    "        file_count = len(file_names)\n",
    "        sub_directory_name = os.path.basename(sub_directory)\n",
    "        stats.append({ \"Code\": sub_directory_name[:sub_directory_name.find('-')],\n",
    "                        \"Image count\": file_count, \n",
    "                       \"Folder name\": os.path.basename(sub_directory),\n",
    "                        \"File names\": file_names})\n",
    "\n",
    "    \n",
    "    df = pd.DataFrame(stats)\n",
    "    \n",
    "    return df"
   ]
  },
  {
   "cell_type": "code",
   "execution_count": null,
   "metadata": {
    "colab": {},
    "colab_type": "code",
    "id": "6OKZRLGl8miV"
   },
   "outputs": [],
   "source": [
    "import imgaug.augmenters as iaa\n",
    "class re_data:\n",
    "    def read_path():\n",
    "        l=[]\n",
    "        for name in glob.glob('./images/*.jpg'):\n",
    "            l.append(name)\n",
    "        return l\n",
    "            \n",
    "    def Read_data(data,l):\n",
    "        images =[]\n",
    "        path='./images/'\n",
    "        for img in data:\n",
    "            path=path+img\n",
    "            if path in l:\n",
    "                im=imread(path)\n",
    "                images.append(im)\n",
    "            path='./images/'\n",
    "        return np.array(images)\n",
    "    \n",
    "    def plot_image(images, captions=None, cmap=None ):\n",
    "        f, axes = plt.subplots(1, len(images), sharey=True)\n",
    "        f.set_figwidth(15)\n",
    "        for ax,image in zip(axes, images):\n",
    "            ax.imshow(image, cmap)\n",
    "            \n",
    "    def flip_image(image):\n",
    "        return np.fliplr(image)\n",
    "    \n",
    "    def shear_image(image):\n",
    "        shift_x, shift_y = image.shape[0]/2, image.shape[1]/2\n",
    "        matrix_to_topleft = tf.SimilarityTransform(translation=[-shift_x, -shift_y])\n",
    "        matrix_to_center = tf.SimilarityTransform(translation=[shift_x, shift_y])\n",
    "        shear_transforms = tf.AffineTransform(shear=np.deg2rad(45))\n",
    "        shear_matrix = matrix_to_topleft + shear_transforms + matrix_to_center\n",
    "        shear_image = tf.warp(image, shear_matrix)\n",
    "        return shear_image\n",
    "        \n",
    "    def Gray_image(image):\n",
    "        gray = cv2.cvtColor(image, cv2.COLOR_BGR2GRAY)\n",
    "        gray=tf.resize(gray,(224,224,3),anti_aliasing=False)\n",
    "        gaussian = cv2.GaussianBlur(gray,(3,3),0)\n",
    "        return gaussian\n",
    "        \n",
    "    def rotate_45(image):\n",
    "        # rotation\n",
    "        shift_x, shift_y = image.shape[0]/2, image.shape[1]/2\n",
    "        matrix_to_topleft = tf.SimilarityTransform(translation=[-shift_x, -shift_y])\n",
    "        matrix_to_center = tf.SimilarityTransform(translation=[shift_x, shift_y])\n",
    "        rot_transforms =  tf.AffineTransform(rotation=np.deg2rad(45))\n",
    "        rot_matrix = matrix_to_topleft + rot_transforms + matrix_to_center\n",
    "        rot_image = tf.warp(image, rot_matrix)\n",
    "        return rot_image\n",
    "        \n",
    "    def Zoom_out(image):\n",
    "        # scaling \n",
    "        shift_x, shift_y = image.shape[0]/2, image.shape[1]/2\n",
    "        matrix_to_topleft = tf.SimilarityTransform(translation=[-shift_x, -shift_y])\n",
    "        matrix_to_center = tf.SimilarityTransform(translation=[shift_x, shift_y])\n",
    "        scale_transforms = tf.AffineTransform(scale=(2, 2))\n",
    "        scale_matrix = matrix_to_topleft + scale_transforms + matrix_to_center\n",
    "        scale_image_zoom_out = tf.warp(image, scale_matrix)\n",
    "        return scale_image_zoom_out\n",
    "        \n",
    "    \n",
    "    def Zoom_in(image):\n",
    "        shift_x, shift_y = image.shape[0]/2, image.shape[1]/2\n",
    "        matrix_to_topleft = tf.SimilarityTransform(translation=[-shift_x, -shift_y])\n",
    "        matrix_to_center = tf.SimilarityTransform(translation=[shift_x, shift_y])\n",
    "        scale_transforms = tf.AffineTransform(scale=(0.5, 0.5))\n",
    "        scale_matrix = matrix_to_topleft + scale_transforms + matrix_to_center\n",
    "        scale_image_zoom_in = tf.warp(image, scale_matrix)\n",
    "        return scale_image_zoom_in\n",
    "        \n",
    "    def Translation(image):\n",
    "        # translation\n",
    "        transaltion_transforms = tf.AffineTransform(translation=(50, 50))\n",
    "        translated_image = tf.warp(image, transaltion_transforms)\n",
    "        return translated_image\n",
    "        \n",
    "    def Contrast(image):\n",
    "        contrast=iaa.GammaContrast(gamma=2.0)\n",
    "        contrast_image =contrast.augment_image(image)\n",
    "        return contrast_image"
   ]
  },
  {
   "cell_type": "code",
   "execution_count": null,
   "metadata": {
    "colab": {
     "base_uri": "https://localhost:8080/",
     "height": 34
    },
    "colab_type": "code",
    "id": "0cDWNuyPeKAv",
    "outputId": "8799e4fc-0f06-41bd-92e5-1b8e6382f6cc"
   },
   "outputs": [],
   "source": [
    "# Show codes with their folder names and image counts\n",
    "dataset = dataset_stats().set_index(\"Code\")\n",
    "dataset[[\"Folder name\", \"Image count\"]]\n",
    "type(dataset)"
   ]
  },
  {
   "cell_type": "code",
   "execution_count": null,
   "metadata": {
    "colab": {
     "base_uri": "https://localhost:8080/",
     "height": 257
    },
    "colab_type": "code",
    "id": "IXWC6MtF-PRA",
    "outputId": "d41f36a2-d070-43c9-d669-fd28fb2936a5"
   },
   "outputs": [],
   "source": [
    "dataset"
   ]
  },
  {
   "cell_type": "code",
   "execution_count": null,
   "metadata": {
    "cellView": "both",
    "colab": {},
    "colab_type": "code",
    "id": "OsE5TZkieMZH"
   },
   "outputs": [],
   "source": [
    "#@title Load Images\n",
    "# Function returns an array of images whoose filenames start with a given set of characters\n",
    "# after resizing them to 224 x 224\n",
    "\n",
    "def load_images(codes):\n",
    "    \n",
    "    # Define empty arrays where we will store our images and labels\n",
    "    images = []\n",
    "    labels = []\n",
    "    \n",
    "    for code in codes:\n",
    "        # get the folder name for this code\n",
    "        folder_name = dataset.loc[code][\"Folder name\"]\n",
    "        \n",
    "        for file in dataset.loc[code][\"File names\"]:                 \n",
    "            # build file path\n",
    "            file_path = os.path.join(DIR, folder_name, file)\n",
    "        \n",
    "            # Read the image\n",
    "            image = cv2.imread(file_path)\n",
    "            \n",
    "            # #Removing black regions\n",
    "            # gray = cv2.cvtColor(image, cv2.COLOR_BGR2GRAY)\n",
    "            # mask = gray>100\n",
    "            # image = image[np.ix_(mask.any(1),mask.any(0))]\n",
    "\n",
    "            # Resize it to 224 x 224\n",
    "            # image = cv2.resize(image, (224,224))\n",
    "\n",
    "            #Convert it from BGR to RGB so we can plot them later (because openCV reads images as BGR)\n",
    "            # image = cv2.cvtColor(image, cv2.COLOR_BGR2RGB)\n",
    "\n",
    "            # Now we add it to our array\n",
    "            images.append(image)\n",
    "            labels.append(code)\n",
    "            \n",
    "            #Now save images\n",
    "            # cv2.imwrite(file_path,image)\n",
    "\n",
    "    return images, labels"
   ]
  },
  {
   "cell_type": "code",
   "execution_count": null,
   "metadata": {
    "colab": {},
    "colab_type": "code",
    "id": "gmNprf7it8vj"
   },
   "outputs": [],
   "source": [
    "def Load_Images_from_folder(folder):\n",
    "    images = []\n",
    "    for filename in os.listdir(folder):\n",
    "        img = cv2.imread(os.path.join(folder,filename))\n",
    "        if img is not None:\n",
    "            images.append(img)\n",
    "\n",
    "    return np.array(images)"
   ]
  },
  {
   "cell_type": "code",
   "execution_count": null,
   "metadata": {
    "colab": {
     "base_uri": "https://localhost:8080/",
     "height": 34
    },
    "colab_type": "code",
    "id": "FHAc5Q72t-uM",
    "outputId": "45e48444-3cfc-494f-a341-fa6109439425"
   },
   "outputs": [],
   "source": [
    "pathfolder = DIR+\"Glue ear/\"\n",
    "df= Load_Images_from_folder(pathfolder)\n",
    "# df= np.array([df])\n",
    "df.shape"
   ]
  },
  {
   "cell_type": "code",
   "execution_count": null,
   "metadata": {
    "colab": {},
    "colab_type": "code",
    "id": "jwfhIhxu4_7C"
   },
   "outputs": [],
   "source": [
    "from matplotlib.image import imsave\n",
    "X_aug=[]\n",
    "y_aug=[]\n",
    "name='aug'\n",
    "path = '/content/drive/My Drive/ColabNotebooks/Aug_Images/GlueEar/'\n",
    "for i in range(len(df)):\n",
    "        img=df[i]\n",
    "        X_aug.append(img)\n",
    "        imsave(path+name+str(i)+'.jpg', img)\n",
    "        \n",
    "        img_flip = re_data.flip_image(df[i])\n",
    "        X_aug.append(img_flip)\n",
    "        imsave(path+name+'_flip'+str(i)+'.jpg', img_flip)\n",
    "\n",
    "        img_shear=re_data.shear_image(df[i])\n",
    "        X_aug.append(img_shear)\n",
    "        imsave(path+name+'_shear'+str(i)+'.jpg', img_shear)\n",
    "    \n",
    "        gray=re_data.Gray_image(df[i])\n",
    "        X_aug.append(gray)\n",
    "        imsave(path+name+'_gray'+str(i)+'.jpg', gray)\n",
    "    \n",
    "        gray_flip=re_data.Gray_image(img_flip)\n",
    "        X_aug.append(gray_flip)\n",
    "        imsave(path+name+'_gray_flip'+str(i)+'.jpg', gray_flip)\n",
    "    \n",
    "        img_rotate=re_data.rotate_45(df[i])\n",
    "        X_aug.append(img_rotate)\n",
    "        imsave(path + name +'_rotate'+str(i)+'.jpg', img_rotate)\n",
    "    \n",
    "        img_zoom_out=re_data.Zoom_out(df[i])\n",
    "        X_aug.append(img_zoom_out)\n",
    "        imsave(path + name +'_out'+str(i)+'.jpg', img_zoom_out)\n",
    "    \n",
    "        img_zoom_in=re_data.Zoom_in(df[i])\n",
    "        X_aug.append(img_zoom_in)\n",
    "        imsave(path + name +'_in'+str(i)+'.jpg', img_zoom_in)\n",
    "    \n",
    "        img_translation=re_data.Translation(df[i])\n",
    "        X_aug.append(img_translation)\n",
    "        imsave(path + name + '_translation'+str(i)+'.jpg', img_translation)\n",
    "    \n",
    "        img_Contrast=re_data.Contrast(df[i])\n",
    "        X_aug.append(img_Contrast)\n",
    "        imsave(path + name + '_Contrast'+str(i)+'.jpg', img_Contrast)"
   ]
  },
  {
   "cell_type": "code",
   "execution_count": null,
   "metadata": {
    "colab": {},
    "colab_type": "code",
    "id": "RsUVVDfJT364"
   },
   "outputs": [],
   "source": [
    "DIR = \"/content/drive/My Drive/ColabNotebooks/Aug_Images/\""
   ]
  },
  {
   "cell_type": "code",
   "execution_count": null,
   "metadata": {
    "colab": {
     "base_uri": "https://localhost:8080/",
     "height": 72
    },
    "colab_type": "code",
    "id": "vlQgq7BNUHMe",
    "outputId": "5c98e17e-abbd-4e6d-9ebe-30f88cc2b730"
   },
   "outputs": [],
   "source": [
    "diseases = os.listdir(DIR)\n",
    "print(diseases)\n",
    "for disease in diseases:\n",
    "        # get a list of subdirectories that start with this character\n",
    "        directory_list = (glob.glob(\"{}/*\".format(DIR, disease)))\n",
    "print(directory_list)"
   ]
  },
  {
   "cell_type": "code",
   "execution_count": null,
   "metadata": {
    "colab": {
     "base_uri": "https://localhost:8080/",
     "height": 257
    },
    "colab_type": "code",
    "id": "yfDNMA5pUVHV",
    "outputId": "f64b56b4-1acc-4ce0-b481-32f763843a46"
   },
   "outputs": [],
   "source": [
    "# Show codes with their folder names and image counts\n",
    "dataset = dataset_stats().set_index(\"Code\")\n",
    "dataset[[\"Folder name\", \"Image count\"]]\n",
    "type(dataset)\n",
    "dataset"
   ]
  },
  {
   "cell_type": "markdown",
   "metadata": {
    "colab_type": "text",
    "id": "igL2wkDdVCKi"
   },
   "source": [
    "## Loading Images through Image Data Generator"
   ]
  },
  {
   "cell_type": "code",
   "execution_count": null,
   "metadata": {
    "colab": {
     "base_uri": "https://localhost:8080/",
     "height": 52
    },
    "colab_type": "code",
    "id": "xSUzG7pzVAH5",
    "outputId": "ea93131f-3f6c-4ec6-8da2-eb46cf3560ee"
   },
   "outputs": [],
   "source": [
    "from tensorflow.keras.preprocessing.image import ImageDataGenerator\n",
    "datagen = ImageDataGenerator()\n",
    "...\n",
    "# load and iterate training dataset\n",
    "train_it = datagen.flow_from_directory('./Aug_Images/Aug_Images/', class_mode='categorical',target_size=(224,224),shuffle=True)\n",
    "# load and iterate validation dataset\n",
    "val_it = datagen.flow_from_directory('./TMimagesCNN/TM imagesCNN', class_mode='categorical',target_size=(224,224),shuffle=True)\n",
    "# load and iterate test dataset\n",
    "test_it = datagen.flow_from_directory('./test', class_mode='categorical',target_size=(224,224),shuffle=True)"
   ]
  },
  {
   "cell_type": "markdown",
   "metadata": {
    "colab_type": "text",
    "id": "XEdwX4neVi5w"
   },
   "source": [
    "## Loading model"
   ]
  },
  {
   "cell_type": "code",
   "execution_count": null,
   "metadata": {
    "colab": {},
    "colab_type": "code",
    "id": "Z5T4lbVGwYAC"
   },
   "outputs": [],
   "source": [
    "from tensorflow.keras.applications.xception import Xception\n",
    "from tensorflow.keras.applications.mobilenet_v2 import MobileNetV2\n",
    "from tensorflow.keras.applications import InceptionResNetV2\n",
    "from tensorflow.keras.applications import ResNet50\n"
   ]
  },
  {
   "cell_type": "code",
   "execution_count": 53,
   "metadata": {
    "colab": {},
    "colab_type": "code",
    "id": "DPwp8RbUejSb"
   },
   "outputs": [],
   "source": [
    "# create the base pre-trained model\n",
    "base_model = InceptionResNetV2(weights='imagenet', include_top=False, input_shape=(224,224,3))\n",
    "\n",
    "# add a global spatial average pooling layer\n",
    "x = base_model.output\n",
    "x = GlobalAveragePooling2D()(x)\n",
    "x = Dropout(0.2)(x)\n",
    "# let's add a fully-connected layer\n",
    "x = Dense(1024, activation='relu')(x)\n",
    "x = Dropout(0.3)(x)\n",
    "x = Dense(512, activation = 'relu')(x)\n",
    "x = Dropout(0.3)(x)\n",
    "x = Dense(64, activation='softmax')(x)\n",
    "# and a logistic layer -- we have 6 classes\n",
    "predictions = Dense(6, activation='softmax')(x)\n",
    "\n",
    "# this is the model we will train\n",
    "model = Model(inputs=base_model.input, outputs=predictions)\n",
    "\n",
    "# first: train only the top layers (which were randomly initialized)\n",
    "# i.e. freeze all convolutional InceptionV3 layers\n",
    "for layer in base_model.layers:\n",
    "    layer.trainable = False\n",
    "\n",
    "# compile the model (should be done *after* setting layers to non-trainable)\n",
    "model.compile(optimizer='adam', loss='categorical_crossentropy', metrics=['accuracy'])\n",
    "\n",
    "img_width, img_height = 224, 224\n",
    "\n",
    "\n"
   ]
  },
  {
   "cell_type": "code",
   "execution_count": 54,
   "metadata": {
    "colab": {
     "base_uri": "https://localhost:8080/",
     "height": 550
    },
    "colab_type": "code",
    "id": "20QC5ydYm1nw",
    "outputId": "afd9e114-895f-4e5c-e13b-531f0f0a5ca5"
   },
   "outputs": [
    {
     "name": "stdout",
     "output_type": "stream",
     "text": [
      "Epoch 1/15\n",
      "33/33 [==============================] - 24s 715ms/step - loss: 1.7706 - accuracy: 0.2128 - val_loss: 1.8385 - val_accuracy: 0.1092\n",
      "Epoch 2/15\n",
      "33/33 [==============================] - 23s 684ms/step - loss: 1.7077 - accuracy: 0.3559 - val_loss: 1.8530 - val_accuracy: 0.1092\n",
      "Epoch 3/15\n",
      "33/33 [==============================] - 23s 683ms/step - loss: 1.6787 - accuracy: 0.3826 - val_loss: 1.8684 - val_accuracy: 0.1092\n",
      "Epoch 4/15\n",
      "33/33 [==============================] - 23s 682ms/step - loss: 1.6366 - accuracy: 0.4475 - val_loss: 1.8334 - val_accuracy: 0.2353\n",
      "Epoch 5/15\n",
      "33/33 [==============================] - 23s 710ms/step - loss: 1.6207 - accuracy: 0.4408 - val_loss: 1.7489 - val_accuracy: 0.3782\n",
      "Epoch 6/15\n",
      "33/33 [==============================] - 23s 692ms/step - loss: 1.6032 - accuracy: 0.4437 - val_loss: 1.7352 - val_accuracy: 0.3782\n",
      "Epoch 7/15\n",
      "33/33 [==============================] - 22s 680ms/step - loss: 1.5932 - accuracy: 0.4351 - val_loss: 1.8875 - val_accuracy: 0.1597\n",
      "Epoch 8/15\n",
      "33/33 [==============================] - 23s 705ms/step - loss: 1.5832 - accuracy: 0.4189 - val_loss: 1.9450 - val_accuracy: 0.1092\n",
      "Epoch 9/15\n",
      "33/33 [==============================] - 23s 691ms/step - loss: 1.5505 - accuracy: 0.4351 - val_loss: 1.9570 - val_accuracy: 0.1092\n",
      "Epoch 10/15\n",
      "33/33 [==============================] - 23s 686ms/step - loss: 1.5520 - accuracy: 0.4275 - val_loss: 1.7421 - val_accuracy: 0.3782\n",
      "Epoch 11/15\n",
      "33/33 [==============================] - 23s 684ms/step - loss: 1.5591 - accuracy: 0.4113 - val_loss: 1.7439 - val_accuracy: 0.3782\n",
      "Epoch 12/15\n",
      "33/33 [==============================] - 24s 713ms/step - loss: 1.5502 - accuracy: 0.4237 - val_loss: 1.9078 - val_accuracy: 0.0882\n",
      "Epoch 13/15\n",
      "33/33 [==============================] - 23s 689ms/step - loss: 1.5314 - accuracy: 0.4265 - val_loss: 1.9198 - val_accuracy: 0.0882\n",
      "Epoch 14/15\n",
      "33/33 [==============================] - 23s 688ms/step - loss: 1.5255 - accuracy: 0.4323 - val_loss: 2.0284 - val_accuracy: 0.1092\n",
      "Epoch 15/15\n",
      "33/33 [==============================] - 23s 703ms/step - loss: 1.5549 - accuracy: 0.3884 - val_loss: 1.7427 - val_accuracy: 0.3782\n"
     ]
    }
   ],
   "source": [
    "# train the model on the new data for a few epochs\n",
    "historyA = model.fit_generator(train_it, epochs=15,\n",
    "                    initial_epoch=0, validation_data=val_it)"
   ]
  },
  {
   "cell_type": "code",
   "execution_count": 55,
   "metadata": {
    "colab": {
     "base_uri": "https://localhost:8080/",
     "height": 52
    },
    "colab_type": "code",
    "id": "RkXLqy3CKtqc",
    "outputId": "33fd330b-7b90-446c-b9d6-bb7d87acc7e3"
   },
   "outputs": [
    {
     "name": "stdout",
     "output_type": "stream",
     "text": [
      "1/1 [==============================] - 0s 387ms/step - loss: 1.7354 - accuracy: 0.3750\n"
     ]
    },
    {
     "data": {
      "text/plain": [
       "[1.7353849411010742, 0.375]"
      ]
     },
     "execution_count": 55,
     "metadata": {},
     "output_type": "execute_result"
    }
   ],
   "source": [
    "accA = model.evaluate_generator(val_it, steps=1,  max_queue_size=10, workers=1, use_multiprocessing=False, verbose=1)\n",
    "accA"
   ]
  },
  {
   "cell_type": "code",
   "execution_count": null,
   "metadata": {
    "colab": {
     "base_uri": "https://localhost:8080/",
     "height": 153
    },
    "colab_type": "code",
    "id": "5FRkVZWntyCk",
    "outputId": "ac142eb8-d135-4168-fbba-c6884847f94e"
   },
   "outputs": [],
   "source": [
    " # Predicting the Test set results\n",
    "y_pred = model.predict(X_test)\n",
    "y_pred_a = (y_pred > 0.5)\n",
    "\n",
    "# Making the Confusion Matrix\n",
    "from sklearn.metrics import confusion_matrix\n",
    "confusion_matrix(y_test.argmax(axis=1), y_pred_a.argmax(axis=1))"
   ]
  },
  {
   "cell_type": "code",
   "execution_count": 46,
   "metadata": {
    "colab": {
     "base_uri": "https://localhost:8080/",
     "height": 591
    },
    "colab_type": "code",
    "id": "MNQwWWlFUTwz",
    "outputId": "a2453671-fb60-43f7-8bd8-cbe81c300063"
   },
   "outputs": [
    {
     "name": "stdout",
     "output_type": "stream",
     "text": [
      "dict_keys(['loss', 'accuracy', 'val_loss', 'val_accuracy'])\n"
     ]
    },
    {
     "data": {
      "image/png": "[encoded data removed]",
      "text/plain": [
       "<Figure size 432x288 with 1 Axes>"
      ]
     },
     "metadata": {
      "needs_background": "light"
     },
     "output_type": "display_data"
    },
    {
     "data": {
      "image/png": "[encoded data removed]",
      "text/plain": [
       "<Figure size 432x288 with 1 Axes>"
      ]
     },
     "metadata": {
      "needs_background": "light"
     },
     "output_type": "display_data"
    }
   ],
   "source": [
    "print(historyA.history.keys())\n",
    "#  \"Accuracy\"\n",
    "plt.plot(historyA.history['accuracy'])\n",
    "plt.plot(historyA.history['val_accuracy'])\n",
    "plt.title('model accuracy')\n",
    "plt.ylabel('accuracy')\n",
    "plt.xlabel('epoch')\n",
    "plt.legend(['train', 'validation'], loc='upper left')\n",
    "plt.show()\n",
    "# \"Loss\"\n",
    "plt.plot(historyA.history['loss'])\n",
    "plt.plot(historyA.history['val_loss'])\n",
    "plt.title('model loss')\n",
    "plt.ylabel('loss')\n",
    "plt.xlabel('epoch')\n",
    "plt.legend(['train', 'validation'], loc='upper left')\n",
    "plt.show()"
   ]
  },
  {
   "cell_type": "code",
   "execution_count": null,
   "metadata": {
    "colab": {
     "base_uri": "https://localhost:8080/",
     "height": 1000
    },
    "colab_type": "code",
    "id": "L0C3XW0ven11",
    "outputId": "5d308517-4f0e-496f-f52f-b54d0e77df3f"
   },
   "outputs": [],
   "source": [
    "# at this point, the top layers are well trained and we can start fine-tuning\n",
    "# convolutional layers from inception V3. We will freeze the bottom N layers\n",
    "# and train the remaining top layers.\n",
    "\n",
    "# let's visualize layer names and layer indices to see how many layers\n",
    "# we should freeze:\n",
    "for i, layer in enumerate(base_model.layers):\n",
    "   print(i, layer.name)"
   ]
  },
  {
   "cell_type": "code",
   "execution_count": 62,
   "metadata": {
    "colab": {
     "base_uri": "https://localhost:8080/",
     "height": 285
    },
    "colab_type": "code",
    "id": "GXI-3APNer7b",
    "outputId": "e80c97bb-a5b9-4895-b1b9-8bd7660aa2fb"
   },
   "outputs": [
    {
     "name": "stdout",
     "output_type": "stream",
     "text": [
      "Epoch 1/2\n",
      "33/33 [==============================] - 24s 722ms/step - loss: 1.7238 - accuracy: 0.2844 - val_loss: 2.0583 - val_accuracy: 0.1092\n",
      "Epoch 2/2\n",
      "33/33 [==============================] - 24s 734ms/step - loss: 1.8080 - accuracy: 0.2080 - val_loss: 1.7557 - val_accuracy: 0.3782\n"
     ]
    }
   ],
   "source": [
    "# we chose to train the top 2 inception blocks, i.e. we will freeze\n",
    "# the first 249 layers and unfreeze the rest:\n",
    "for layer in model.layers[:700]:\n",
    "   layer.trainable = False\n",
    "for layer in model.layers[700:]:\n",
    "   layer.trainable = True\n",
    "\n",
    "# we need to recompile the model for these modifications to take effect\n",
    "# we use SGD with a low learning rate\n",
    "from tensorflow.keras.optimizers import SGD\n",
    "model.compile(optimizer='adam', loss='categorical_crossentropy', metrics=['accuracy'])\n",
    "\n",
    "# we train our model again (this time fine-tuning the top 2 inception blocks\n",
    "# alongside the top Dense layers\n",
    "historyB = model.fit_generator(train_it, epochs=2,\n",
    "                    initial_epoch=0, validation_data=val_it)"
   ]
  },
  {
   "cell_type": "code",
   "execution_count": 68,
   "metadata": {
    "colab": {
     "base_uri": "https://localhost:8080/",
     "height": 34
    },
    "colab_type": "code",
    "id": "WUE1mDETewED",
    "outputId": "cb1f52a2-ebf2-4708-b274-0bd8c5946ea2"
   },
   "outputs": [
    {
     "name": "stdout",
     "output_type": "stream",
     "text": [
      "1/1 [==============================] - 0s 398ms/step - loss: 1.7508 - accuracy: 0.4375\n"
     ]
    }
   ],
   "source": [
    "# this is a generator for test data\n",
    "# test_generator = test_datagen.flow(X_test, y_test)\n",
    "\n",
    "# let's test our model\n",
    "accB = model.evaluate_generator(val_it, steps=1,  max_queue_size=10, workers=1, use_multiprocessing=False, verbose=1)"
   ]
  },
  {
   "cell_type": "code",
   "execution_count": 69,
   "metadata": {
    "colab": {
     "base_uri": "https://localhost:8080/",
     "height": 34
    },
    "colab_type": "code",
    "id": "A6g09MdRKxgP",
    "outputId": "6df956fa-7a4b-4487-f847-42747c3978c9"
   },
   "outputs": [
    {
     "data": {
      "text/plain": [
       "[1.750840187072754, 0.4375]"
      ]
     },
     "execution_count": 69,
     "metadata": {},
     "output_type": "execute_result"
    }
   ],
   "source": [
    "accB"
   ]
  },
  {
   "cell_type": "code",
   "execution_count": null,
   "metadata": {
    "colab": {
     "base_uri": "https://localhost:8080/",
     "height": 153
    },
    "colab_type": "code",
    "id": "jGVASFIYhT1p",
    "outputId": "5dc1bdb2-d424-422b-edef-2ec63198a943"
   },
   "outputs": [],
   "source": [
    " # Predicting the Test set results\n",
    "y_pred = model.predict(X_test)\n",
    "y_pred_a = (y_pred > 0.5)\n",
    "\n",
    "# Making the Confusion Matrix\n",
    "from sklearn.metrics import confusion_matrix\n",
    "confusion_matrix(y_test.argmax(axis=1), y_pred_a.argmax(axis=1))"
   ]
  },
  {
   "cell_type": "code",
   "execution_count": 66,
   "metadata": {
    "colab": {
     "base_uri": "https://localhost:8080/",
     "height": 232
    },
    "colab_type": "code",
    "id": "Htue_WHN7rv7",
    "outputId": "6b23d6cf-15d6-425b-e362-c8434973ded9"
   },
   "outputs": [
    {
     "name": "stdout",
     "output_type": "stream",
     "text": [
      "dict_keys(['loss', 'accuracy', 'val_loss', 'val_accuracy'])\n"
     ]
    },
    {
     "data": {
      "image/png": "[encoded data removed]",
      "text/plain": [
       "<Figure size 432x288 with 1 Axes>"
      ]
     },
     "metadata": {
      "needs_background": "light"
     },
     "output_type": "display_data"
    },
    {
     "data": {
      "image/png": "[encoded data removed]",
      "text/plain": [
       "<Figure size 432x288 with 1 Axes>"
      ]
     },
     "metadata": {
      "needs_background": "light"
     },
     "output_type": "display_data"
    }
   ],
   "source": [
    "print(historyB.history.keys())\n",
    "#  \"Accuracy\"\n",
    "plt.plot(historyB.history['accuracy'])\n",
    "plt.plot(historyB.history['val_accuracy'])\n",
    "plt.title('model accuracy')\n",
    "plt.ylabel('accuracy')\n",
    "plt.xlabel('epoch')\n",
    "plt.legend(['train', 'validation'], loc='upper left')\n",
    "plt.show()\n",
    "# \"Loss\"\n",
    "plt.plot(historyB.history['loss'])\n",
    "plt.plot(historyB.history['val_loss'])\n",
    "plt.title('model loss')\n",
    "plt.ylabel('loss')\n",
    "plt.xlabel('epoch')\n",
    "plt.legend(['train', 'validation'], loc='upper left')\n",
    "plt.show()"
   ]
  }
 ],
 "metadata": {
  "accelerator": "GPU",
  "colab": {
   "collapsed_sections": [],
   "name": "Copy of MobileNetV2_Otology.ipynb",
   "provenance": [],
   "toc_visible": true
  },
  "kernelspec": {
   "display_name": "Python 3",
   "language": "python",
   "name": "python3"
  },
  "language_info": {
   "codemirror_mode": {
    "name": "ipython",
    "version": 3
   },
   "file_extension": ".py",
   "mimetype": "text/x-python",
   "name": "python",
   "nbconvert_exporter": "python",
   "pygments_lexer": "ipython3",
   "version": "3.6.9"
  }
 },
 "nbformat": 4,
 "nbformat_minor": 4
}
