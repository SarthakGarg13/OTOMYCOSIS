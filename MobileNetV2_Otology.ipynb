{
  "nbformat": 4,
  "nbformat_minor": 0,
  "metadata": {
    "colab": {
      "name": "MobileNetV2_Otology.ipynb",
      "provenance": [],
      "collapsed_sections": [],
      "toc_visible": true
    },
    "kernelspec": {
      "name": "python3",
      "display_name": "Python 3"
    },
    "accelerator": "TPU"
  },
  "cells": [
    {
      "cell_type": "code",
      "metadata": {
        "colab_type": "code",
        "cellView": "both",
        "id": "34cTajLBaarU",
        "colab": {
          "base_uri": "https://localhost:8080/",
          "height": 179
        },
        "outputId": "5e63985d-b1c0-4684-c6dd-7850a665e9c8"
      },
      "source": [
        "#@title Authenticate Google Drive & Load Dataset\n",
        "!pip install -U -q PyDrive\n",
        "from pydrive.auth import GoogleAuth\n",
        "from pydrive.drive import GoogleDrive\n",
        "from google.colab import auth\n",
        "from oauth2client.client import GoogleCredentials\n",
        "\n",
        "auth.authenticate_user()\n",
        "gauth = GoogleAuth()\n",
        "gauth.credentials = GoogleCredentials.get_application_default()\n",
        "drive = GoogleDrive(gauth)\n",
        "\n",
        "# 40+ images\n",
        "#file_id = '1cri3RKBVE4i3FGewtI3E67dmbc8uOF7I'\n",
        "# 7+ images\n",
        "#file_id = '1VMXGATBfKNZ-l1B6u76mlD2DS1DvihQv'\n",
        "# all categories\n",
        "#file_id = '1xVKufqNVKvbPD5FGYNBNd-qPB8925kLI'\n",
        "# 2 categories\n",
        "#file_id = '1t5TItBGf1ccif1lTU9sfnShrWrH8_vA6'\n",
        "#file_id = '1enlSgboQEdVEB4jRapl3-d99URO9oWSK'\n",
        "file_id =  '1NYdJFei4nGzdxPbOlfm8-BjCq5WAJYgp'\n",
        "#file_id = '131ZpgwnfgzCOjqoM89JjG9eY6kRo5au9'\n",
        "\n",
        "\n",
        "downloaded = drive.CreateFile({'id': file_id})\n",
        "downloaded.GetContentFile('TM imagesCNN.zip')\n",
        "\n",
        "from zipfile import ZipFile\n",
        "data = ZipFile('TM imagesCNN.zip', 'r')\n",
        "data.extractall()"
      ],
      "execution_count": null,
      "outputs": [
        {
          "output_type": "stream",
          "text": [
            "\u001b[?25l\r\u001b[K     |▎                               | 10kB 16.0MB/s eta 0:00:01\r\u001b[K     |▋                               | 20kB 2.3MB/s eta 0:00:01\r\u001b[K     |█                               | 30kB 3.3MB/s eta 0:00:01\r\u001b[K     |█▎                              | 40kB 2.1MB/s eta 0:00:01\r\u001b[K     |█▋                              | 51kB 2.6MB/s eta 0:00:01\r\u001b[K     |██                              | 61kB 3.1MB/s eta 0:00:01\r\u001b[K     |██▎                             | 71kB 3.6MB/s eta 0:00:01\r\u001b[K     |██▋                             | 81kB 4.0MB/s eta 0:00:01\r\u001b[K     |███                             | 92kB 4.5MB/s eta 0:00:01\r\u001b[K     |███▎                            | 102kB 3.5MB/s eta 0:00:01\r\u001b[K     |███▋                            | 112kB 3.5MB/s eta 0:00:01\r\u001b[K     |████                            | 122kB 3.5MB/s eta 0:00:01\r\u001b[K     |████▎                           | 133kB 3.5MB/s eta 0:00:01\r\u001b[K     |████▋                           | 143kB 3.5MB/s eta 0:00:01\r\u001b[K     |█████                           | 153kB 3.5MB/s eta 0:00:01\r\u001b[K     |█████▎                          | 163kB 3.5MB/s eta 0:00:01\r\u001b[K     |█████▋                          | 174kB 3.5MB/s eta 0:00:01\r\u001b[K     |██████                          | 184kB 3.5MB/s eta 0:00:01\r\u001b[K     |██████▎                         | 194kB 3.5MB/s eta 0:00:01\r\u001b[K     |██████▋                         | 204kB 3.5MB/s eta 0:00:01\r\u001b[K     |███████                         | 215kB 3.5MB/s eta 0:00:01\r\u001b[K     |███████▎                        | 225kB 3.5MB/s eta 0:00:01\r\u001b[K     |███████▋                        | 235kB 3.5MB/s eta 0:00:01\r\u001b[K     |████████                        | 245kB 3.5MB/s eta 0:00:01\r\u001b[K     |████████▎                       | 256kB 3.5MB/s eta 0:00:01\r\u001b[K     |████████▋                       | 266kB 3.5MB/s eta 0:00:01\r\u001b[K     |█████████                       | 276kB 3.5MB/s eta 0:00:01\r\u001b[K     |█████████▎                      | 286kB 3.5MB/s eta 0:00:01\r\u001b[K     |█████████▋                      | 296kB 3.5MB/s eta 0:00:01\r\u001b[K     |██████████                      | 307kB 3.5MB/s eta 0:00:01\r\u001b[K     |██████████▎                     | 317kB 3.5MB/s eta 0:00:01\r\u001b[K     |██████████▋                     | 327kB 3.5MB/s eta 0:00:01\r\u001b[K     |███████████                     | 337kB 3.5MB/s eta 0:00:01\r\u001b[K     |███████████▎                    | 348kB 3.5MB/s eta 0:00:01\r\u001b[K     |███████████▋                    | 358kB 3.5MB/s eta 0:00:01\r\u001b[K     |████████████                    | 368kB 3.5MB/s eta 0:00:01\r\u001b[K     |████████████▎                   | 378kB 3.5MB/s eta 0:00:01\r\u001b[K     |████████████▋                   | 389kB 3.5MB/s eta 0:00:01\r\u001b[K     |█████████████                   | 399kB 3.5MB/s eta 0:00:01\r\u001b[K     |█████████████▎                  | 409kB 3.5MB/s eta 0:00:01\r\u001b[K     |█████████████▋                  | 419kB 3.5MB/s eta 0:00:01\r\u001b[K     |██████████████                  | 430kB 3.5MB/s eta 0:00:01\r\u001b[K     |██████████████▎                 | 440kB 3.5MB/s eta 0:00:01\r\u001b[K     |██████████████▋                 | 450kB 3.5MB/s eta 0:00:01\r\u001b[K     |███████████████                 | 460kB 3.5MB/s eta 0:00:01\r\u001b[K     |███████████████▎                | 471kB 3.5MB/s eta 0:00:01\r\u001b[K     |███████████████▋                | 481kB 3.5MB/s eta 0:00:01\r\u001b[K     |████████████████                | 491kB 3.5MB/s eta 0:00:01\r\u001b[K     |████████████████▎               | 501kB 3.5MB/s eta 0:00:01\r\u001b[K     |████████████████▋               | 512kB 3.5MB/s eta 0:00:01\r\u001b[K     |█████████████████               | 522kB 3.5MB/s eta 0:00:01\r\u001b[K     |█████████████████▎              | 532kB 3.5MB/s eta 0:00:01\r\u001b[K     |█████████████████▋              | 542kB 3.5MB/s eta 0:00:01\r\u001b[K     |██████████████████              | 552kB 3.5MB/s eta 0:00:01\r\u001b[K     |██████████████████▎             | 563kB 3.5MB/s eta 0:00:01\r\u001b[K     |██████████████████▋             | 573kB 3.5MB/s eta 0:00:01\r\u001b[K     |███████████████████             | 583kB 3.5MB/s eta 0:00:01\r\u001b[K     |███████████████████▎            | 593kB 3.5MB/s eta 0:00:01\r\u001b[K     |███████████████████▋            | 604kB 3.5MB/s eta 0:00:01\r\u001b[K     |████████████████████            | 614kB 3.5MB/s eta 0:00:01\r\u001b[K     |████████████████████▎           | 624kB 3.5MB/s eta 0:00:01\r\u001b[K     |████████████████████▋           | 634kB 3.5MB/s eta 0:00:01\r\u001b[K     |█████████████████████           | 645kB 3.5MB/s eta 0:00:01\r\u001b[K     |█████████████████████▎          | 655kB 3.5MB/s eta 0:00:01\r\u001b[K     |█████████████████████▋          | 665kB 3.5MB/s eta 0:00:01\r\u001b[K     |██████████████████████          | 675kB 3.5MB/s eta 0:00:01\r\u001b[K     |██████████████████████▎         | 686kB 3.5MB/s eta 0:00:01\r\u001b[K     |██████████████████████▋         | 696kB 3.5MB/s eta 0:00:01\r\u001b[K     |███████████████████████         | 706kB 3.5MB/s eta 0:00:01\r\u001b[K     |███████████████████████▎        | 716kB 3.5MB/s eta 0:00:01\r\u001b[K     |███████████████████████▋        | 727kB 3.5MB/s eta 0:00:01\r\u001b[K     |████████████████████████        | 737kB 3.5MB/s eta 0:00:01\r\u001b[K     |████████████████████████▎       | 747kB 3.5MB/s eta 0:00:01\r\u001b[K     |████████████████████████▋       | 757kB 3.5MB/s eta 0:00:01\r\u001b[K     |████████████████████████▉       | 768kB 3.5MB/s eta 0:00:01\r\u001b[K     |█████████████████████████▏      | 778kB 3.5MB/s eta 0:00:01\r\u001b[K     |█████████████████████████▌      | 788kB 3.5MB/s eta 0:00:01\r\u001b[K     |█████████████████████████▉      | 798kB 3.5MB/s eta 0:00:01\r\u001b[K     |██████████████████████████▏     | 808kB 3.5MB/s eta 0:00:01\r\u001b[K     |██████████████████████████▌     | 819kB 3.5MB/s eta 0:00:01\r\u001b[K     |██████████████████████████▉     | 829kB 3.5MB/s eta 0:00:01\r\u001b[K     |███████████████████████████▏    | 839kB 3.5MB/s eta 0:00:01\r\u001b[K     |███████████████████████████▌    | 849kB 3.5MB/s eta 0:00:01\r\u001b[K     |███████████████████████████▉    | 860kB 3.5MB/s eta 0:00:01\r\u001b[K     |████████████████████████████▏   | 870kB 3.5MB/s eta 0:00:01\r\u001b[K     |████████████████████████████▌   | 880kB 3.5MB/s eta 0:00:01\r\u001b[K     |████████████████████████████▉   | 890kB 3.5MB/s eta 0:00:01\r\u001b[K     |█████████████████████████████▏  | 901kB 3.5MB/s eta 0:00:01\r\u001b[K     |█████████████████████████████▌  | 911kB 3.5MB/s eta 0:00:01\r\u001b[K     |█████████████████████████████▉  | 921kB 3.5MB/s eta 0:00:01\r\u001b[K     |██████████████████████████████▏ | 931kB 3.5MB/s eta 0:00:01\r\u001b[K     |██████████████████████████████▌ | 942kB 3.5MB/s eta 0:00:01\r\u001b[K     |██████████████████████████████▉ | 952kB 3.5MB/s eta 0:00:01\r\u001b[K     |███████████████████████████████▏| 962kB 3.5MB/s eta 0:00:01\r\u001b[K     |███████████████████████████████▌| 972kB 3.5MB/s eta 0:00:01\r\u001b[K     |███████████████████████████████▉| 983kB 3.5MB/s eta 0:00:01\r\u001b[K     |████████████████████████████████| 993kB 3.5MB/s \n",
            "\u001b[?25h  Building wheel for PyDrive (setup.py) ... \u001b[?25l\u001b[?25hdone\n",
            "\n",
            "WARNING: The TensorFlow contrib module will not be included in TensorFlow 2.0.\n",
            "For more information, please see:\n",
            "  * https://github.com/tensorflow/community/blob/master/rfcs/20180907-contrib-sunset.md\n",
            "  * https://github.com/tensorflow/addons\n",
            "If you depend on functionality not listed there, please file an issue.\n",
            "\n"
          ],
          "name": "stdout"
        }
      ]
    },
    {
      "cell_type": "code",
      "metadata": {
        "id": "iPwF-9glhK4G",
        "colab_type": "code",
        "colab": {}
      },
      "source": [
        "DIR = \"./TM imagesCNN\""
      ],
      "execution_count": null,
      "outputs": []
    },
    {
      "cell_type": "code",
      "metadata": {
        "id": "69casnhGfk9H",
        "colab_type": "code",
        "colab": {}
      },
      "source": [
        "#!rm -r './TM imagesCNN/D3-Normal Ear'"
      ],
      "execution_count": null,
      "outputs": []
    },
    {
      "cell_type": "code",
      "metadata": {
        "id": "vELVS7JseEXr",
        "colab_type": "code",
        "cellView": "both",
        "colab": {}
      },
      "source": [
        "#@title Importing Libraries\n",
        "import time\n",
        "import random\n",
        "import glob\n",
        "import keras\n",
        "from keras.applications.inception_v3 import InceptionV3\n",
        "from keras import optimizers, regularizers\n",
        "from keras.preprocessing.image import ImageDataGenerator\n",
        "from keras.models import Sequential\n",
        "from keras.layers import Conv2D, MaxPooling2D, GlobalAveragePooling2D\n",
        "from keras.layers import Activation, Dropout, Flatten, Dense\n",
        "from keras import backend as K\n",
        "from keras.preprocessing import image\n",
        "from keras.models import Model\n",
        "from sklearn.model_selection import train_test_split\n",
        "from sklearn.cluster import KMeans\n",
        "from sklearn.mixture import GaussianMixture\n",
        "from sklearn.decomposition import PCA\n",
        "from sklearn import preprocessing\n",
        "import pandas as pd\n",
        "import matplotlib.pyplot as plt\n",
        "import os\n",
        "import cv2\n",
        "import numpy as np"
      ],
      "execution_count": null,
      "outputs": []
    },
    {
      "cell_type": "code",
      "metadata": {
        "id": "gSsfwZJaeHOs",
        "colab_type": "code",
        "cellView": "both",
        "colab": {}
      },
      "source": [
        "#@title Dataset Stats\n",
        "def dataset_stats():\n",
        "    \n",
        "    # This is an array with the all the diseases available in the directory.\n",
        "\n",
        "    diseases = os.listdir(DIR)\n",
        "    \n",
        "    # dictionary where we will store the stats\n",
        "    stats = []\n",
        "    \n",
        "    for disease in diseases:\n",
        "        # get a list of subdirectories that start with this character\n",
        "        directory_list = sorted(glob.glob(\"{}/[{}]*\".format(DIR, disease)))\n",
        "        \n",
        "    for sub_directory in directory_list:\n",
        "        file_names = [file for file in os.listdir(sub_directory)]\n",
        "        file_count = len(file_names)\n",
        "        sub_directory_name = os.path.basename(sub_directory)\n",
        "        stats.append({ \"Code\": sub_directory_name[:sub_directory_name.find('-')],\n",
        "                        \"Image count\": file_count, \n",
        "                       \"Folder name\": os.path.basename(sub_directory),\n",
        "                        \"File names\": file_names})\n",
        "\n",
        "    \n",
        "    df = pd.DataFrame(stats)\n",
        "    \n",
        "    return df"
      ],
      "execution_count": null,
      "outputs": []
    },
    {
      "cell_type": "code",
      "metadata": {
        "id": "0cDWNuyPeKAv",
        "colab_type": "code",
        "colab": {
          "base_uri": "https://localhost:8080/",
          "height": 35
        },
        "outputId": "3c64f82a-891e-48f9-b3aa-0cfc2c68d748"
      },
      "source": [
        "# Show codes with their folder names and image counts\n",
        "dataset = dataset_stats().set_index(\"Code\")\n",
        "dataset[[\"Folder name\", \"Image count\"]]\n",
        "type(dataset)"
      ],
      "execution_count": null,
      "outputs": [
        {
          "output_type": "execute_result",
          "data": {
            "text/plain": [
              "pandas.core.frame.DataFrame"
            ]
          },
          "metadata": {
            "tags": []
          },
          "execution_count": 16
        }
      ]
    },
    {
      "cell_type": "code",
      "metadata": {
        "id": "IXWC6MtF-PRA",
        "colab_type": "code",
        "colab": {
          "base_uri": "https://localhost:8080/",
          "height": 235
        },
        "outputId": "a7537fba-22af-480a-b9df-f0778a4af9bc"
      },
      "source": [
        "dataset"
      ],
      "execution_count": null,
      "outputs": [
        {
          "output_type": "execute_result",
          "data": {
            "text/html": [
              "<div>\n",
              "<style scoped>\n",
              "    .dataframe tbody tr th:only-of-type {\n",
              "        vertical-align: middle;\n",
              "    }\n",
              "\n",
              "    .dataframe tbody tr th {\n",
              "        vertical-align: top;\n",
              "    }\n",
              "\n",
              "    .dataframe thead th {\n",
              "        text-align: right;\n",
              "    }\n",
              "</style>\n",
              "<table border=\"1\" class=\"dataframe\">\n",
              "  <thead>\n",
              "    <tr style=\"text-align: right;\">\n",
              "      <th></th>\n",
              "      <th>File names</th>\n",
              "      <th>Folder name</th>\n",
              "      <th>Image count</th>\n",
              "    </tr>\n",
              "    <tr>\n",
              "      <th>Code</th>\n",
              "      <th></th>\n",
              "      <th></th>\n",
              "      <th></th>\n",
              "    </tr>\n",
              "  </thead>\n",
              "  <tbody>\n",
              "    <tr>\n",
              "      <th>D0</th>\n",
              "      <td>[20180101000047-H0000002.JPG, 20180101000136-H...</td>\n",
              "      <td>D0-Acute otitis media</td>\n",
              "      <td>26</td>\n",
              "    </tr>\n",
              "    <tr>\n",
              "      <th>D1</th>\n",
              "      <td>[20180101000141-H0000011.JPG, 20180101000044-H...</td>\n",
              "      <td>D1-Glue ear</td>\n",
              "      <td>16</td>\n",
              "    </tr>\n",
              "    <tr>\n",
              "      <th>D4</th>\n",
              "      <td>[20180101000117-H0000002.JPG, 20180101000100-H...</td>\n",
              "      <td>D4-Otomycosis</td>\n",
              "      <td>21</td>\n",
              "    </tr>\n",
              "    <tr>\n",
              "      <th>D5</th>\n",
              "      <td>[20180101000043-H0000007.JPG, 20180101000119-H...</td>\n",
              "      <td>D5-Safe CSOM</td>\n",
              "      <td>55</td>\n",
              "    </tr>\n",
              "    <tr>\n",
              "      <th>D6</th>\n",
              "      <td>[20180101000047-H0000002.JPG, 20180101000218-H...</td>\n",
              "      <td>D6-Others</td>\n",
              "      <td>29</td>\n",
              "    </tr>\n",
              "  </tbody>\n",
              "</table>\n",
              "</div>"
            ],
            "text/plain": [
              "                                             File names  \\\n",
              "Code                                                      \n",
              "D0    [20180101000047-H0000002.JPG, 20180101000136-H...   \n",
              "D1    [20180101000141-H0000011.JPG, 20180101000044-H...   \n",
              "D4    [20180101000117-H0000002.JPG, 20180101000100-H...   \n",
              "D5    [20180101000043-H0000007.JPG, 20180101000119-H...   \n",
              "D6    [20180101000047-H0000002.JPG, 20180101000218-H...   \n",
              "\n",
              "                Folder name  Image count  \n",
              "Code                                      \n",
              "D0    D0-Acute otitis media           26  \n",
              "D1              D1-Glue ear           16  \n",
              "D4            D4-Otomycosis           21  \n",
              "D5             D5-Safe CSOM           55  \n",
              "D6                D6-Others           29  "
            ]
          },
          "metadata": {
            "tags": []
          },
          "execution_count": 7
        }
      ]
    },
    {
      "cell_type": "code",
      "metadata": {
        "id": "OsE5TZkieMZH",
        "colab_type": "code",
        "cellView": "both",
        "colab": {}
      },
      "source": [
        "#@title Load Images\n",
        "# Function returns an array of images whoose filenames start with a given set of characters\n",
        "# after resizing them to 224 x 224\n",
        "\n",
        "def load_images(codes):\n",
        "    \n",
        "    # Define empty arrays where we will store our images and labels\n",
        "    images = []\n",
        "    labels = []\n",
        "    \n",
        "    for code in codes:\n",
        "        # get the folder name for this code\n",
        "        folder_name = dataset.loc[code][\"Folder name\"]\n",
        "        \n",
        "        for file in dataset.loc[code][\"File names\"]:                 \n",
        "            # build file path\n",
        "            file_path = os.path.join(DIR, folder_name, file)\n",
        "        \n",
        "            # Read the image\n",
        "            image = cv2.imread(file_path)\n",
        "            \n",
        "            # Removing black regions\n",
        "            #gray = cv2.cvtColor(image, cv2.COLOR_BGR2GRAY)\n",
        "            #mask = gray>100\n",
        "            #image = image[np.ix_(mask.any(1),mask.any(0))]\n",
        "\n",
        "            # Resize it to 224 x 224\n",
        "            #image = cv2.resize(image, (224,224))\n",
        "\n",
        "            # Convert it from BGR to RGB so we can plot them later (because openCV reads images as BGR)\n",
        "           # image = cv2.cvtColor(image, cv2.COLOR_BGR2RGB)\n",
        "\n",
        "            # Now we add it to our array\n",
        "            images.append(image)\n",
        "            labels.append(code)\n",
        "            \n",
        "            # Now save images\n",
        "            #cv2.imwrite(file_path,image)\n",
        "\n",
        "    return images, labels"
      ],
      "execution_count": null,
      "outputs": []
    },
    {
      "cell_type": "code",
      "metadata": {
        "id": "FKXt8zMTeO64",
        "colab_type": "code",
        "colab": {}
      },
      "source": [
        "DF = dataset_stats()\n",
        "codes = dataset_stats()['Code']\n",
        "images, labels = load_images(codes)"
      ],
      "execution_count": null,
      "outputs": []
    },
    {
      "cell_type": "code",
      "metadata": {
        "id": "p-TRtvA5eVzs",
        "colab_type": "code",
        "cellView": "form",
        "colab": {}
      },
      "source": [
        "#@title Display Some Images\n",
        "\n",
        "def show_random_images(images, labels, number_of_images_to_show=2):\n",
        "\n",
        "    for code in list(set(labels)):\n",
        "\n",
        "        indicies = [i for i, label in enumerate(labels) if label == code]\n",
        "        random_indicies = [random.choice(indicies) for i in range(number_of_images_to_show)]\n",
        "        figure, axis = plt.subplots(1, number_of_images_to_show)\n",
        "\n",
        "        print(\"{} random images for code {}\".format(number_of_images_to_show, code))\n",
        "\n",
        "        for image in range(number_of_images_to_show):\n",
        "            axis[image].imshow(images[random_indicies[image]])\n",
        "        plt.show()"
      ],
      "execution_count": null,
      "outputs": []
    },
    {
      "cell_type": "code",
      "metadata": {
        "id": "h-XaPvjCeZKK",
        "colab_type": "code",
        "colab": {}
      },
      "source": [
        "#show_random_images(images, labels)"
      ],
      "execution_count": null,
      "outputs": []
    },
    {
      "cell_type": "code",
      "metadata": {
        "id": "qPxAS_5Pebfz",
        "colab_type": "code",
        "colab": {}
      },
      "source": [
        "# Set aside the testing data. We won't touch these until the very end.\n",
        "X_train, X_test, y_train, y_test = train_test_split(images, labels, test_size=0.2, random_state=101)\n",
        "\n",
        "X_train, X_val, y_train, y_val = train_test_split(X_train, y_train, test_size=0.25, random_state=71)"
      ],
      "execution_count": null,
      "outputs": []
    },
    {
      "cell_type": "code",
      "metadata": {
        "id": "1FbGxriMeeCj",
        "colab_type": "code",
        "colab": {}
      },
      "source": [
        "# Pre-processing images and labels\n",
        "# scale the raw pixel intensities and labels to the range [0, 1]\n",
        "X_train = np.array(X_train, dtype=\"float\") / 255.0\n",
        "X_val = np.array(X_val, dtype=\"float\") / 255.0\n",
        "X_test = np.array(X_test, dtype=\"float\") / 255.0"
      ],
      "execution_count": null,
      "outputs": []
    },
    {
      "cell_type": "code",
      "metadata": {
        "id": "Z5T4lbVGwYAC",
        "colab_type": "code",
        "colab": {}
      },
      "source": [
        "from keras.applications.xception import Xception\n",
        "from keras.applications.mobilenet_v2 import MobileNetV2\n"
      ],
      "execution_count": null,
      "outputs": []
    },
    {
      "cell_type": "code",
      "metadata": {
        "id": "zUTNKjm7egfR",
        "colab_type": "code",
        "colab": {}
      },
      "source": [
        "# Binarizng labels\n",
        "lb = preprocessing.LabelBinarizer()\n",
        "lb.fit(labels)\n",
        "#lb.classes_\n",
        "y_train = lb.transform(y_train)\n",
        "y_val = lb.transform(y_val)\n",
        "y_test = lb.transform(y_test)"
      ],
      "execution_count": null,
      "outputs": []
    },
    {
      "cell_type": "code",
      "metadata": {
        "id": "DPwp8RbUejSb",
        "colab_type": "code",
        "colab": {
          "base_uri": "https://localhost:8080/",
          "height": 190
        },
        "outputId": "f8ed80df-947f-454a-b8ae-9f4b19d237d7"
      },
      "source": [
        "# create the base pre-trained model\n",
        "base_model = MobileNetV2(weights='imagenet', include_top=False, input_shape=(224,224,3))\n",
        "\n",
        "# add a global spatial average pooling layer\n",
        "x = base_model.output\n",
        "x = GlobalAveragePooling2D()(x)\n",
        "# let's add a fully-connected layer\n",
        "x = Dense(1024, activation='relu')(x)\n",
        "# and a logistic layer -- we have 13 classes\n",
        "predictions = Dense(6, activation='softmax')(x)\n",
        "\n",
        "# this is the model we will train\n",
        "model = Model(inputs=base_model.input, outputs=predictions)\n",
        "\n",
        "# first: train only the top layers (which were randomly initialized)\n",
        "# i.e. freeze all convolutional InceptionV3 layers\n",
        "for layer in base_model.layers:\n",
        "    layer.trainable = False\n",
        "\n",
        "# compile the model (should be done *after* setting layers to non-trainable)\n",
        "model.compile(optimizer='rmsprop', loss='categorical_crossentropy', metrics=['categorical_accuracy'])\n",
        "\n",
        "img_width, img_height = 224, 224\n",
        "\n",
        "nb_train_samples = len(X_train)*20\n",
        "nb_validation_samples = len(X_val)*6\n",
        "\n",
        "# this is the augmentation configuration we will use for training\n",
        "train_datagen = ImageDataGenerator(\n",
        "    rotation_range=90,\n",
        "    shear_range=0.2,\n",
        "    zoom_range=0.2,\n",
        "    width_shift_range=0.2,\n",
        "    height_shift_range=0.2,\n",
        "    horizontal_flip=True,\n",
        "    vertical_flip=True)\n",
        "\n",
        "# this is the augmentation configuration we will use for validating/testing:\n",
        "# only rescaling\n",
        "test_datagen = ImageDataGenerator()\n",
        "\n",
        "# this is a generator that will indefinitely generate batches of augmented image data\n",
        "train_generator = train_datagen.flow(X_train, y_train)\n",
        "\n",
        "# this is a similar generator, for validation data\n",
        "validation_generator = test_datagen.flow(X_val, y_val)\n",
        "\n",
        "# train the model on the new data for a few epochs\n",
        "historyA = model.fit_generator(train_generator, steps_per_epoch=nb_train_samples // 128, epochs=50,\n",
        "                    initial_epoch=0, validation_data=validation_generator, validation_steps=nb_validation_samples // 128)\n"
      ],
      "execution_count": null,
      "outputs": [
        {
          "output_type": "stream",
          "text": [
            "WARNING:tensorflow:From /usr/local/lib/python3.6/dist-packages/tensorflow/python/framework/op_def_library.py:263: colocate_with (from tensorflow.python.framework.ops) is deprecated and will be removed in a future version.\n",
            "Instructions for updating:\n",
            "Colocations handled automatically by placer.\n",
            "Downloading data from https://github.com/JonathanCMitchell/mobilenet_v2_keras/releases/download/v1.1/mobilenet_v2_weights_tf_dim_ordering_tf_kernels_1.0_224_no_top.h5\n",
            "9412608/9406464 [==============================] - 0s 0us/step\n",
            "WARNING:tensorflow:From /usr/local/lib/python3.6/dist-packages/tensorflow/python/ops/math_ops.py:3066: to_int32 (from tensorflow.python.ops.math_ops) is deprecated and will be removed in a future version.\n",
            "Instructions for updating:\n",
            "Use tf.cast instead.\n",
            "Epoch 1/50\n"
          ],
          "name": "stdout"
        }
      ]
    },
    {
      "cell_type": "code",
      "metadata": {
        "id": "RkXLqy3CKtqc",
        "colab_type": "code",
        "colab": {
          "base_uri": "https://localhost:8080/",
          "height": 34
        },
        "outputId": "7f2a2872-f78e-4975-b35d-9c47b5dfad52"
      },
      "source": [
        "accA"
      ],
      "execution_count": null,
      "outputs": [
        {
          "output_type": "execute_result",
          "data": {
            "text/plain": [
              "[9.170934677124023, 0.25]"
            ]
          },
          "metadata": {
            "tags": []
          },
          "execution_count": 39
        }
      ]
    },
    {
      "cell_type": "code",
      "metadata": {
        "id": "5FRkVZWntyCk",
        "colab_type": "code",
        "colab": {
          "base_uri": "https://localhost:8080/",
          "height": 153
        },
        "outputId": "ac142eb8-d135-4168-fbba-c6884847f94e"
      },
      "source": [
        " # Predicting the Test set results\n",
        "y_pred = model.predict(X_test)\n",
        "y_pred_a = (y_pred > 0.5)\n",
        "\n",
        "# Making the Confusion Matrix\n",
        "from sklearn.metrics import confusion_matrix\n",
        "confusion_matrix(y_test.argmax(axis=1), y_pred_a.argmax(axis=1))"
      ],
      "execution_count": null,
      "outputs": [
        {
          "output_type": "execute_result",
          "data": {
            "text/plain": [
              "array([[0, 0, 0, 0, 0, 6, 0, 0],\n",
              "       [0, 0, 0, 0, 0, 3, 0, 0],\n",
              "       [0, 0, 0, 0, 0, 0, 0, 1],\n",
              "       [0, 0, 0, 0, 0, 4, 0, 0],\n",
              "       [0, 0, 0, 0, 0, 2, 0, 0],\n",
              "       [0, 0, 0, 0, 0, 8, 0, 0],\n",
              "       [0, 0, 0, 0, 0, 5, 0, 0],\n",
              "       [0, 0, 0, 0, 0, 3, 0, 0]])"
            ]
          },
          "metadata": {
            "tags": []
          },
          "execution_count": 40
        }
      ]
    },
    {
      "cell_type": "code",
      "metadata": {
        "id": "MNQwWWlFUTwz",
        "colab_type": "code",
        "colab": {
          "base_uri": "https://localhost:8080/",
          "height": 590
        },
        "outputId": "052737ec-f9fd-4f17-b5dd-78256e2a6897"
      },
      "source": [
        "print(historyA.history.keys())\n",
        "#  \"Accuracy\"\n",
        "plt.plot(historyA.history['categorical_accuracy'])\n",
        "plt.plot(historyA.history['val_categorical_accuracy'])\n",
        "plt.title('model accuracy')\n",
        "plt.ylabel('accuracy')\n",
        "plt.xlabel('epoch')\n",
        "plt.legend(['train', 'validation'], loc='upper left')\n",
        "plt.show()\n",
        "# \"Loss\"\n",
        "plt.plot(historyA.history['loss'])\n",
        "plt.plot(historyA.history['val_loss'])\n",
        "plt.title('model loss')\n",
        "plt.ylabel('loss')\n",
        "plt.xlabel('epoch')\n",
        "plt.legend(['train', 'validation'], loc='upper left')\n",
        "plt.show()"
      ],
      "execution_count": null,
      "outputs": [
        {
          "output_type": "stream",
          "text": [
            "dict_keys(['val_loss', 'val_categorical_accuracy', 'loss', 'categorical_accuracy'])\n"
          ],
          "name": "stdout"
        },
        {
          "output_type": "display_data",
          "data": {
            "image/png": "[encoded data removed]",
            "text/plain": [
              "<Figure size 432x288 with 1 Axes>"
            ]
          },
          "metadata": {
            "tags": []
          }
        },
        {
          "output_type": "display_data",
          "data": {
            "image/png": "[encoded data removed]",
            "text/plain": [
              "<Figure size 432x288 with 1 Axes>"
            ]
          },
          "metadata": {
            "tags": []
          }
        }
      ]
    },
    {
      "cell_type": "code",
      "metadata": {
        "id": "xytM-f06yKrY",
        "colab_type": "code",
        "colab": {}
      },
      "source": [
        "# Predicting the Test set results\n",
        "#y_pred = model.predict(X_test)\n",
        "#y_pred = (y_pred > 0.5)\n",
        "\n",
        "# Making the Confusion Matrix\n",
        "#from sklearn.metrics import confusion_matrix\n",
        "#cm = confusion_matrix(y_test, y_pred) "
      ],
      "execution_count": null,
      "outputs": []
    },
    {
      "cell_type": "code",
      "metadata": {
        "id": "L0C3XW0ven11",
        "colab_type": "code",
        "colab": {
          "base_uri": "https://localhost:8080/",
          "height": 2652
        },
        "outputId": "0f0504ba-1f0b-4079-b55c-f51a3c6e4f22"
      },
      "source": [
        "# at this point, the top layers are well trained and we can start fine-tuning\n",
        "# convolutional layers from inception V3. We will freeze the bottom N layers\n",
        "# and train the remaining top layers.\n",
        "\n",
        "# let's visualize layer names and layer indices to see how many layers\n",
        "# we should freeze:\n",
        "for i, layer in enumerate(base_model.layers):\n",
        "   print(i, layer.name)"
      ],
      "execution_count": null,
      "outputs": [
        {
          "output_type": "stream",
          "text": [
            "0 input_8\n",
            "1 Conv1_pad\n",
            "2 Conv1\n",
            "3 bn_Conv1\n",
            "4 Conv1_relu\n",
            "5 expanded_conv_depthwise\n",
            "6 expanded_conv_depthwise_BN\n",
            "7 expanded_conv_depthwise_relu\n",
            "8 expanded_conv_project\n",
            "9 expanded_conv_project_BN\n",
            "10 block_1_expand\n",
            "11 block_1_expand_BN\n",
            "12 block_1_expand_relu\n",
            "13 block_1_pad\n",
            "14 block_1_depthwise\n",
            "15 block_1_depthwise_BN\n",
            "16 block_1_depthwise_relu\n",
            "17 block_1_project\n",
            "18 block_1_project_BN\n",
            "19 block_2_expand\n",
            "20 block_2_expand_BN\n",
            "21 block_2_expand_relu\n",
            "22 block_2_depthwise\n",
            "23 block_2_depthwise_BN\n",
            "24 block_2_depthwise_relu\n",
            "25 block_2_project\n",
            "26 block_2_project_BN\n",
            "27 block_2_add\n",
            "28 block_3_expand\n",
            "29 block_3_expand_BN\n",
            "30 block_3_expand_relu\n",
            "31 block_3_pad\n",
            "32 block_3_depthwise\n",
            "33 block_3_depthwise_BN\n",
            "34 block_3_depthwise_relu\n",
            "35 block_3_project\n",
            "36 block_3_project_BN\n",
            "37 block_4_expand\n",
            "38 block_4_expand_BN\n",
            "39 block_4_expand_relu\n",
            "40 block_4_depthwise\n",
            "41 block_4_depthwise_BN\n",
            "42 block_4_depthwise_relu\n",
            "43 block_4_project\n",
            "44 block_4_project_BN\n",
            "45 block_4_add\n",
            "46 block_5_expand\n",
            "47 block_5_expand_BN\n",
            "48 block_5_expand_relu\n",
            "49 block_5_depthwise\n",
            "50 block_5_depthwise_BN\n",
            "51 block_5_depthwise_relu\n",
            "52 block_5_project\n",
            "53 block_5_project_BN\n",
            "54 block_5_add\n",
            "55 block_6_expand\n",
            "56 block_6_expand_BN\n",
            "57 block_6_expand_relu\n",
            "58 block_6_pad\n",
            "59 block_6_depthwise\n",
            "60 block_6_depthwise_BN\n",
            "61 block_6_depthwise_relu\n",
            "62 block_6_project\n",
            "63 block_6_project_BN\n",
            "64 block_7_expand\n",
            "65 block_7_expand_BN\n",
            "66 block_7_expand_relu\n",
            "67 block_7_depthwise\n",
            "68 block_7_depthwise_BN\n",
            "69 block_7_depthwise_relu\n",
            "70 block_7_project\n",
            "71 block_7_project_BN\n",
            "72 block_7_add\n",
            "73 block_8_expand\n",
            "74 block_8_expand_BN\n",
            "75 block_8_expand_relu\n",
            "76 block_8_depthwise\n",
            "77 block_8_depthwise_BN\n",
            "78 block_8_depthwise_relu\n",
            "79 block_8_project\n",
            "80 block_8_project_BN\n",
            "81 block_8_add\n",
            "82 block_9_expand\n",
            "83 block_9_expand_BN\n",
            "84 block_9_expand_relu\n",
            "85 block_9_depthwise\n",
            "86 block_9_depthwise_BN\n",
            "87 block_9_depthwise_relu\n",
            "88 block_9_project\n",
            "89 block_9_project_BN\n",
            "90 block_9_add\n",
            "91 block_10_expand\n",
            "92 block_10_expand_BN\n",
            "93 block_10_expand_relu\n",
            "94 block_10_depthwise\n",
            "95 block_10_depthwise_BN\n",
            "96 block_10_depthwise_relu\n",
            "97 block_10_project\n",
            "98 block_10_project_BN\n",
            "99 block_11_expand\n",
            "100 block_11_expand_BN\n",
            "101 block_11_expand_relu\n",
            "102 block_11_depthwise\n",
            "103 block_11_depthwise_BN\n",
            "104 block_11_depthwise_relu\n",
            "105 block_11_project\n",
            "106 block_11_project_BN\n",
            "107 block_11_add\n",
            "108 block_12_expand\n",
            "109 block_12_expand_BN\n",
            "110 block_12_expand_relu\n",
            "111 block_12_depthwise\n",
            "112 block_12_depthwise_BN\n",
            "113 block_12_depthwise_relu\n",
            "114 block_12_project\n",
            "115 block_12_project_BN\n",
            "116 block_12_add\n",
            "117 block_13_expand\n",
            "118 block_13_expand_BN\n",
            "119 block_13_expand_relu\n",
            "120 block_13_pad\n",
            "121 block_13_depthwise\n",
            "122 block_13_depthwise_BN\n",
            "123 block_13_depthwise_relu\n",
            "124 block_13_project\n",
            "125 block_13_project_BN\n",
            "126 block_14_expand\n",
            "127 block_14_expand_BN\n",
            "128 block_14_expand_relu\n",
            "129 block_14_depthwise\n",
            "130 block_14_depthwise_BN\n",
            "131 block_14_depthwise_relu\n",
            "132 block_14_project\n",
            "133 block_14_project_BN\n",
            "134 block_14_add\n",
            "135 block_15_expand\n",
            "136 block_15_expand_BN\n",
            "137 block_15_expand_relu\n",
            "138 block_15_depthwise\n",
            "139 block_15_depthwise_BN\n",
            "140 block_15_depthwise_relu\n",
            "141 block_15_project\n",
            "142 block_15_project_BN\n",
            "143 block_15_add\n",
            "144 block_16_expand\n",
            "145 block_16_expand_BN\n",
            "146 block_16_expand_relu\n",
            "147 block_16_depthwise\n",
            "148 block_16_depthwise_BN\n",
            "149 block_16_depthwise_relu\n",
            "150 block_16_project\n",
            "151 block_16_project_BN\n",
            "152 Conv_1\n",
            "153 Conv_1_bn\n",
            "154 out_relu\n"
          ],
          "name": "stdout"
        }
      ]
    },
    {
      "cell_type": "code",
      "metadata": {
        "id": "GXI-3APNer7b",
        "colab_type": "code",
        "colab": {
          "base_uri": "https://localhost:8080/",
          "height": 1717
        },
        "outputId": "eaeb9402-5b0b-4633-b174-0bcf477b1e62"
      },
      "source": [
        "# we chose to train the top 2 inception blocks, i.e. we will freeze\n",
        "# the first 249 layers and unfreeze the rest:\n",
        "for layer in model.layers[:108]:\n",
        "   layer.trainable = False\n",
        "for layer in model.layers[108:]:\n",
        "   layer.trainable = True\n",
        "\n",
        "# we need to recompile the model for these modifications to take effect\n",
        "# we use SGD with a low learning rate\n",
        "from keras.optimizers import SGD\n",
        "model.compile(optimizer=SGD(lr=0.0005, momentum=0.09), loss='categorical_crossentropy', metrics=['categorical_accuracy'])\n",
        "\n",
        "# we train our model again (this time fine-tuning the top 2 inception blocks\n",
        "# alongside the top Dense layers\n",
        "historyB = model.fit_generator(train_generator, steps_per_epoch=nb_train_samples // 128, epochs=50,\n",
        "                    initial_epoch=0, validation_data=validation_generator, validation_steps=nb_validation_samples // 128)"
      ],
      "execution_count": null,
      "outputs": [
        {
          "output_type": "stream",
          "text": [
            "Epoch 1/50\n",
            "13/13 [==============================] - 94s 7s/step - loss: 0.5031 - categorical_accuracy: 0.8383 - val_loss: 5.1088 - val_categorical_accuracy: 0.2143\n",
            "Epoch 2/50\n",
            "13/13 [==============================] - 83s 6s/step - loss: 0.3442 - categorical_accuracy: 0.8824 - val_loss: 5.2647 - val_categorical_accuracy: 0.1735\n",
            "Epoch 3/50\n",
            "13/13 [==============================] - 83s 6s/step - loss: 0.3002 - categorical_accuracy: 0.9082 - val_loss: 5.1437 - val_categorical_accuracy: 0.1939\n",
            "Epoch 4/50\n",
            "13/13 [==============================] - 86s 7s/step - loss: 0.3143 - categorical_accuracy: 0.8803 - val_loss: 4.9046 - val_categorical_accuracy: 0.2245\n",
            "Epoch 5/50\n",
            "13/13 [==============================] - 83s 6s/step - loss: 0.2521 - categorical_accuracy: 0.9020 - val_loss: 4.8217 - val_categorical_accuracy: 0.2653\n",
            "Epoch 6/50\n",
            "13/13 [==============================] - 85s 7s/step - loss: 0.1598 - categorical_accuracy: 0.9330 - val_loss: 4.8075 - val_categorical_accuracy: 0.1939\n",
            "Epoch 7/50\n",
            "13/13 [==============================] - 83s 6s/step - loss: 0.1649 - categorical_accuracy: 0.9476 - val_loss: 5.0259 - val_categorical_accuracy: 0.2347\n",
            "Epoch 8/50\n",
            "13/13 [==============================] - 84s 6s/step - loss: 0.1875 - categorical_accuracy: 0.9359 - val_loss: 4.8766 - val_categorical_accuracy: 0.2041\n",
            "Epoch 9/50\n",
            "13/13 [==============================] - 86s 7s/step - loss: 0.1903 - categorical_accuracy: 0.9332 - val_loss: 4.9799 - val_categorical_accuracy: 0.2245\n",
            "Epoch 10/50\n",
            "13/13 [==============================] - 83s 6s/step - loss: 0.1731 - categorical_accuracy: 0.9412 - val_loss: 4.5703 - val_categorical_accuracy: 0.2653\n",
            "Epoch 11/50\n",
            "13/13 [==============================] - 85s 7s/step - loss: 0.1475 - categorical_accuracy: 0.9462 - val_loss: 4.5290 - val_categorical_accuracy: 0.2755\n",
            "Epoch 12/50\n",
            "13/13 [==============================] - 83s 6s/step - loss: 0.1414 - categorical_accuracy: 0.9514 - val_loss: 4.9261 - val_categorical_accuracy: 0.2347\n",
            "Epoch 13/50\n",
            "13/13 [==============================] - 82s 6s/step - loss: 0.1313 - categorical_accuracy: 0.9597 - val_loss: 5.0335 - val_categorical_accuracy: 0.2347\n",
            "Epoch 14/50\n",
            "13/13 [==============================] - 85s 7s/step - loss: 0.1428 - categorical_accuracy: 0.9457 - val_loss: 4.5850 - val_categorical_accuracy: 0.2143\n",
            "Epoch 15/50\n",
            "13/13 [==============================] - 82s 6s/step - loss: 0.1271 - categorical_accuracy: 0.9421 - val_loss: 4.9062 - val_categorical_accuracy: 0.2755\n",
            "Epoch 16/50\n",
            "13/13 [==============================] - 86s 7s/step - loss: 0.1465 - categorical_accuracy: 0.9486 - val_loss: 4.8604 - val_categorical_accuracy: 0.2245\n",
            "Epoch 17/50\n",
            "13/13 [==============================] - 82s 6s/step - loss: 0.1011 - categorical_accuracy: 0.9685 - val_loss: 4.7287 - val_categorical_accuracy: 0.2653\n",
            "Epoch 18/50\n",
            "13/13 [==============================] - 82s 6s/step - loss: 0.1218 - categorical_accuracy: 0.9626 - val_loss: 4.5757 - val_categorical_accuracy: 0.2755\n",
            "Epoch 19/50\n",
            "13/13 [==============================] - 86s 7s/step - loss: 0.0724 - categorical_accuracy: 0.9811 - val_loss: 4.8055 - val_categorical_accuracy: 0.2551\n",
            "Epoch 20/50\n",
            "13/13 [==============================] - 83s 6s/step - loss: 0.1427 - categorical_accuracy: 0.9533 - val_loss: 4.8758 - val_categorical_accuracy: 0.2653\n",
            "Epoch 21/50\n",
            "13/13 [==============================] - 85s 7s/step - loss: 0.0915 - categorical_accuracy: 0.9787 - val_loss: 4.5274 - val_categorical_accuracy: 0.2857\n",
            "Epoch 22/50\n",
            "13/13 [==============================] - 82s 6s/step - loss: 0.1246 - categorical_accuracy: 0.9509 - val_loss: 4.7767 - val_categorical_accuracy: 0.2347\n",
            "Epoch 23/50\n",
            "13/13 [==============================] - 82s 6s/step - loss: 0.0981 - categorical_accuracy: 0.9601 - val_loss: 4.5584 - val_categorical_accuracy: 0.2857\n",
            "Epoch 24/50\n",
            "13/13 [==============================] - 84s 6s/step - loss: 0.0801 - categorical_accuracy: 0.9787 - val_loss: 4.6403 - val_categorical_accuracy: 0.2857\n",
            "Epoch 25/50\n",
            "13/13 [==============================] - 82s 6s/step - loss: 0.0758 - categorical_accuracy: 0.9786 - val_loss: 4.5975 - val_categorical_accuracy: 0.2959\n",
            "Epoch 26/50\n",
            "13/13 [==============================] - 85s 7s/step - loss: 0.0975 - categorical_accuracy: 0.9690 - val_loss: 4.6965 - val_categorical_accuracy: 0.2755\n",
            "Epoch 27/50\n",
            "13/13 [==============================] - 84s 6s/step - loss: 0.1126 - categorical_accuracy: 0.9601 - val_loss: 4.1903 - val_categorical_accuracy: 0.3265\n",
            "Epoch 28/50\n",
            "13/13 [==============================] - 82s 6s/step - loss: 0.1022 - categorical_accuracy: 0.9655 - val_loss: 4.7319 - val_categorical_accuracy: 0.2653\n",
            "Epoch 29/50\n",
            "13/13 [==============================] - 85s 7s/step - loss: 0.0896 - categorical_accuracy: 0.9695 - val_loss: 4.7336 - val_categorical_accuracy: 0.2857\n",
            "Epoch 30/50\n",
            "13/13 [==============================] - 82s 6s/step - loss: 0.1033 - categorical_accuracy: 0.9718 - val_loss: 4.5681 - val_categorical_accuracy: 0.2857\n",
            "Epoch 31/50\n",
            "13/13 [==============================] - 86s 7s/step - loss: 0.0937 - categorical_accuracy: 0.9714 - val_loss: 4.6464 - val_categorical_accuracy: 0.2755\n",
            "Epoch 32/50\n",
            "13/13 [==============================] - 82s 6s/step - loss: 0.0904 - categorical_accuracy: 0.9762 - val_loss: 4.5418 - val_categorical_accuracy: 0.2959\n",
            "Epoch 33/50\n",
            "13/13 [==============================] - 82s 6s/step - loss: 0.0784 - categorical_accuracy: 0.9830 - val_loss: 4.5978 - val_categorical_accuracy: 0.2551\n",
            "Epoch 34/50\n",
            "13/13 [==============================] - 87s 7s/step - loss: 0.0868 - categorical_accuracy: 0.9763 - val_loss: 4.1283 - val_categorical_accuracy: 0.3265\n",
            "Epoch 35/50\n",
            "13/13 [==============================] - 82s 6s/step - loss: 0.0806 - categorical_accuracy: 0.9839 - val_loss: 4.8180 - val_categorical_accuracy: 0.2653\n",
            "Epoch 36/50\n",
            "13/13 [==============================] - 85s 7s/step - loss: 0.0744 - categorical_accuracy: 0.9840 - val_loss: 4.5383 - val_categorical_accuracy: 0.2653\n",
            "Epoch 37/50\n",
            "13/13 [==============================] - 83s 6s/step - loss: 0.0668 - categorical_accuracy: 0.9879 - val_loss: 4.3144 - val_categorical_accuracy: 0.3061\n",
            "Epoch 38/50\n",
            "13/13 [==============================] - 84s 6s/step - loss: 0.1071 - categorical_accuracy: 0.9586 - val_loss: 4.2827 - val_categorical_accuracy: 0.3061\n",
            "Epoch 39/50\n",
            "13/13 [==============================] - 85s 7s/step - loss: 0.0838 - categorical_accuracy: 0.9787 - val_loss: 4.7181 - val_categorical_accuracy: 0.2755\n",
            "Epoch 40/50\n",
            "13/13 [==============================] - 82s 6s/step - loss: 0.0654 - categorical_accuracy: 0.9815 - val_loss: 4.4774 - val_categorical_accuracy: 0.2755\n",
            "Epoch 41/50\n",
            "13/13 [==============================] - 84s 6s/step - loss: 0.0632 - categorical_accuracy: 0.9831 - val_loss: 4.5907 - val_categorical_accuracy: 0.2755\n",
            "Epoch 42/50\n",
            "13/13 [==============================] - 83s 6s/step - loss: 0.0673 - categorical_accuracy: 0.9815 - val_loss: 4.4679 - val_categorical_accuracy: 0.2755\n",
            "Epoch 43/50\n",
            "13/13 [==============================] - 82s 6s/step - loss: 0.0686 - categorical_accuracy: 0.9839 - val_loss: 4.5620 - val_categorical_accuracy: 0.3061\n",
            "Epoch 44/50\n",
            "13/13 [==============================] - 84s 6s/step - loss: 0.0922 - categorical_accuracy: 0.9734 - val_loss: 3.9686 - val_categorical_accuracy: 0.3163\n",
            "Epoch 45/50\n",
            "13/13 [==============================] - 83s 6s/step - loss: 0.0553 - categorical_accuracy: 0.9927 - val_loss: 4.7671 - val_categorical_accuracy: 0.2347\n",
            "Epoch 46/50\n",
            "13/13 [==============================] - 84s 6s/step - loss: 0.0637 - categorical_accuracy: 0.9811 - val_loss: 4.5940 - val_categorical_accuracy: 0.3061\n",
            "Epoch 47/50\n",
            "13/13 [==============================] - 82s 6s/step - loss: 0.0733 - categorical_accuracy: 0.9815 - val_loss: 4.3475 - val_categorical_accuracy: 0.2857\n",
            "Epoch 48/50\n",
            "13/13 [==============================] - 82s 6s/step - loss: 0.0934 - categorical_accuracy: 0.9670 - val_loss: 4.5454 - val_categorical_accuracy: 0.2959\n",
            "Epoch 49/50\n",
            "13/13 [==============================] - 85s 7s/step - loss: 0.0692 - categorical_accuracy: 0.9816 - val_loss: 4.5372 - val_categorical_accuracy: 0.2449\n",
            "Epoch 50/50\n",
            "13/13 [==============================] - 82s 6s/step - loss: 0.0785 - categorical_accuracy: 0.9758 - val_loss: 4.2592 - val_categorical_accuracy: 0.3061\n"
          ],
          "name": "stdout"
        }
      ]
    },
    {
      "cell_type": "code",
      "metadata": {
        "id": "WUE1mDETewED",
        "colab_type": "code",
        "colab": {}
      },
      "source": [
        "# this is a generator for test data\n",
        "test_generator = test_datagen.flow(X_test, y_test)\n",
        "\n",
        "# let's test our model\n",
        "accB = model.evaluate_generator(test_generator, steps=1,  max_queue_size=10, workers=1, use_multiprocessing=False, verbose=0)"
      ],
      "execution_count": null,
      "outputs": []
    },
    {
      "cell_type": "code",
      "metadata": {
        "id": "A6g09MdRKxgP",
        "colab_type": "code",
        "colab": {
          "base_uri": "https://localhost:8080/",
          "height": 34
        },
        "outputId": "e0791fe0-3588-4228-8299-f2cc0323d727"
      },
      "source": [
        "accB"
      ],
      "execution_count": null,
      "outputs": [
        {
          "output_type": "execute_result",
          "data": {
            "text/plain": [
              "[6.388706207275391, 0.28125]"
            ]
          },
          "metadata": {
            "tags": []
          },
          "execution_count": 19
        }
      ]
    },
    {
      "cell_type": "code",
      "metadata": {
        "id": "jGVASFIYhT1p",
        "colab_type": "code",
        "colab": {
          "base_uri": "https://localhost:8080/",
          "height": 153
        },
        "outputId": "5dc1bdb2-d424-422b-edef-2ec63198a943"
      },
      "source": [
        " # Predicting the Test set results\n",
        "y_pred = model.predict(X_test)\n",
        "y_pred_a = (y_pred > 0.5)\n",
        "\n",
        "# Making the Confusion Matrix\n",
        "from sklearn.metrics import confusion_matrix\n",
        "confusion_matrix(y_test.argmax(axis=1), y_pred_a.argmax(axis=1))"
      ],
      "execution_count": null,
      "outputs": [
        {
          "output_type": "execute_result",
          "data": {
            "text/plain": [
              "array([[2, 0, 0, 0, 0, 2, 0, 2],\n",
              "       [0, 1, 0, 0, 0, 2, 0, 0],\n",
              "       [0, 0, 0, 0, 0, 0, 0, 1],\n",
              "       [0, 0, 0, 0, 1, 3, 0, 0],\n",
              "       [0, 0, 0, 0, 0, 2, 0, 0],\n",
              "       [0, 0, 0, 0, 0, 8, 0, 0],\n",
              "       [0, 0, 0, 0, 0, 5, 0, 0],\n",
              "       [0, 0, 0, 0, 0, 3, 0, 0]])"
            ]
          },
          "metadata": {
            "tags": []
          },
          "execution_count": 20
        }
      ]
    },
    {
      "cell_type": "code",
      "metadata": {
        "id": "Htue_WHN7rv7",
        "colab_type": "code",
        "colab": {
          "base_uri": "https://localhost:8080/",
          "height": 232
        },
        "outputId": "6b23d6cf-15d6-425b-e362-c8434973ded9"
      },
      "source": [
        "print(historyB.history.keys())\n",
        "#  \"Accuracy\"\n",
        "plt.plot(historyB.history['categorical_accuracy'])\n",
        "plt.plot(historyB.history['val_categorical_accuracy'])\n",
        "plt.title('model accuracy')\n",
        "plt.ylabel('accuracy')\n",
        "plt.xlabel('epoch')\n",
        "plt.legend(['train', 'validation'], loc='upper left')\n",
        "plt.show()\n",
        "# \"Loss\"\n",
        "plt.plot(historyB.history['loss'])\n",
        "plt.plot(historyB.history['val_loss'])\n",
        "plt.title('model loss')\n",
        "plt.ylabel('loss')\n",
        "plt.xlabel('epoch')\n",
        "plt.legend(['train', 'validation'], loc='upper left')\n",
        "plt.show()"
      ],
      "execution_count": null,
      "outputs": [
        {
          "output_type": "error",
          "ename": "NameError",
          "evalue": "ignored",
          "traceback": [
            "\u001b[0;31m---------------------------------------------------------------------------\u001b[0m",
            "\u001b[0;31mNameError\u001b[0m                                 Traceback (most recent call last)",
            "\u001b[0;32m<ipython-input-22-71450d2cb4f8>\u001b[0m in \u001b[0;36m<module>\u001b[0;34m()\u001b[0m\n\u001b[0;32m----> 1\u001b[0;31m \u001b[0mprint\u001b[0m\u001b[0;34m(\u001b[0m\u001b[0mhistoryB\u001b[0m\u001b[0;34m.\u001b[0m\u001b[0mhistory\u001b[0m\u001b[0;34m.\u001b[0m\u001b[0mkeys\u001b[0m\u001b[0;34m(\u001b[0m\u001b[0;34m)\u001b[0m\u001b[0;34m)\u001b[0m\u001b[0;34m\u001b[0m\u001b[0;34m\u001b[0m\u001b[0m\n\u001b[0m\u001b[1;32m      2\u001b[0m \u001b[0;31m#  \"Accuracy\"\u001b[0m\u001b[0;34m\u001b[0m\u001b[0;34m\u001b[0m\u001b[0;34m\u001b[0m\u001b[0m\n\u001b[1;32m      3\u001b[0m \u001b[0mplt\u001b[0m\u001b[0;34m.\u001b[0m\u001b[0mplot\u001b[0m\u001b[0;34m(\u001b[0m\u001b[0mhistoryB\u001b[0m\u001b[0;34m.\u001b[0m\u001b[0mhistory\u001b[0m\u001b[0;34m[\u001b[0m\u001b[0;34m'categorical_accuracy'\u001b[0m\u001b[0;34m]\u001b[0m\u001b[0;34m)\u001b[0m\u001b[0;34m\u001b[0m\u001b[0;34m\u001b[0m\u001b[0m\n\u001b[1;32m      4\u001b[0m \u001b[0mplt\u001b[0m\u001b[0;34m.\u001b[0m\u001b[0mplot\u001b[0m\u001b[0;34m(\u001b[0m\u001b[0mhistoryB\u001b[0m\u001b[0;34m.\u001b[0m\u001b[0mhistory\u001b[0m\u001b[0;34m[\u001b[0m\u001b[0;34m'val_categorical_accuracy'\u001b[0m\u001b[0;34m]\u001b[0m\u001b[0;34m)\u001b[0m\u001b[0;34m\u001b[0m\u001b[0;34m\u001b[0m\u001b[0m\n\u001b[1;32m      5\u001b[0m \u001b[0mplt\u001b[0m\u001b[0;34m.\u001b[0m\u001b[0mtitle\u001b[0m\u001b[0;34m(\u001b[0m\u001b[0;34m'model accuracy'\u001b[0m\u001b[0;34m)\u001b[0m\u001b[0;34m\u001b[0m\u001b[0;34m\u001b[0m\u001b[0m\n",
            "\u001b[0;31mNameError\u001b[0m: name 'historyB' is not defined"
          ]
        }
      ]
    },
    {
      "cell_type": "code",
      "metadata": {
        "id": "IvSfwQA8JdnH",
        "colab_type": "code",
        "colab": {}
      },
      "source": [
        ""
      ],
      "execution_count": null,
      "outputs": []
    },
    {
      "cell_type": "markdown",
      "metadata": {
        "id": "Cb965d7bPYR9",
        "colab_type": "text"
      },
      "source": [
        "\n",
        "# Model -- Accuracy (after fine-tuning)\n",
        "\n",
        "InceptionV3 -- 61\n",
        "\n",
        "Xception -- 62.5\n",
        "\n",
        "VGG16 -- 56.25 (reduced from 59.3)\n",
        "\n",
        "MobileNetV2 -- "
      ]
    }
  ]
}