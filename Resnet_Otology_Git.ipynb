{
  "nbformat": 4,
  "nbformat_minor": 0,
  "metadata": {
    "colab": {
      "name": "Resnet_Otology_Git.ipynb",
      "provenance": [],
      "collapsed_sections": [],
      "include_colab_link": true
    },
    "kernelspec": {
      "name": "python3",
      "display_name": "Python 3"
    }
  },
  "cells": [
    {
      "cell_type": "markdown",
      "metadata": {
        "id": "view-in-github",
        "colab_type": "text"
      },
      "source": [
        "<a href=\"https://colab.research.google.com/github/SarthakGarg13/OTOMYCOSIS/blob/master/Resnet_Otology_Git.ipynb\" target=\"_parent\"><img src=\"https://colab.research.google.com/assets/colab-badge.svg\" alt=\"Open In Colab\"/></a>"
      ]
    },
    {
      "cell_type": "code",
      "metadata": {
        "id": "El45aeXo1EXN",
        "colab_type": "code",
        "outputId": "10e7dae9-3c15-4a37-dacd-f7f7ec9a95ea",
        "colab": {
          "base_uri": "https://localhost:8080/",
          "height": 34
        }
      },
      "source": [
        "from google.colab import drive\n",
        "drive.mount('/content/drive')"
      ],
      "execution_count": 0,
      "outputs": [
        {
          "output_type": "stream",
          "text": [
            "Drive already mounted at /content/drive; to attempt to forcibly remount, call drive.mount(\"/content/drive\", force_remount=True).\n"
          ],
          "name": "stdout"
        }
      ]
    },
    {
      "cell_type": "code",
      "metadata": {
        "id": "Io8-SdCGNnW_",
        "colab_type": "code",
        "outputId": "f025dfa5-351f-41bc-c8ab-d0ea07f8d8a6",
        "colab": {
          "base_uri": "https://localhost:8080/",
          "height": 34
        }
      },
      "source": [
        "import numpy as np\n",
        "import pandas as pd\n",
        "from keras import regularizers\n",
        "from keras.layers.core import Dropout\n",
        "import matplotlib.pyplot as plt\n",
        "%matplotlib inline \n",
        "\n",
        "import cv2\n",
        "\n",
        "import os"
      ],
      "execution_count": 0,
      "outputs": [
        {
          "output_type": "stream",
          "text": [
            "Using TensorFlow backend.\n"
          ],
          "name": "stderr"
        }
      ]
    },
    {
      "cell_type": "code",
      "metadata": {
        "id": "269P-At_NnRC",
        "colab_type": "code",
        "colab": {}
      },
      "source": [
        "CHANNELS = 3\n",
        "\n",
        "IMAGE_RESIZE = 224\n",
        "RESNET50_POOLING_AVERAGE = 'avg'\n",
        "DENSE_LAYER_ACTIVATION = 'softmax'\n",
        "OBJECTIVE_FUNCTION = 'categorical_crossentropy'\n",
        "\n",
        "# Common accuracy metric for all outputs, but can use different metrics for different output\n",
        "LOSS_METRICS = ['accuracy']\n",
        "\n",
        "# EARLY_STOP_PATIENCE must be < NUM_EPOCHS\n",
        "# NUM_EPOCHS = 10\n",
        "EARLY_STOP_PATIENCE = 3\n",
        "\n",
        "# These steps value should be proper FACTOR of no.-of-images in train & valid folders respectively\n",
        "# Training images processed in each step would be no.-of-train-images / STEPS_PER_EPOCH_TRAINING\n",
        "# STEPS_PER_EPOCH_TRAINING = 10\n",
        "# STEPS_PER_EPOCH_VALIDATION = 10\n",
        "\n",
        "# These steps value should be proper FACTOR of no.-of-images in train & valid folders respectively\n",
        "# NOTE that these BATCH* are for Keras ImageDataGenerator batching to fill epoch step input\n",
        "BATCH_SIZE_TRAINING = 32\n",
        "BATCH_SIZE_VALIDATION = 16\n",
        "\n",
        "# Using 1 to easily manage mapping between test_generator & prediction for submission preparation\n",
        "BATCH_SIZE_TESTING = 1"
      ],
      "execution_count": 0,
      "outputs": []
    },
    {
      "cell_type": "code",
      "metadata": {
        "id": "zVchR_ozNnNc",
        "colab_type": "code",
        "colab": {}
      },
      "source": [
        "from tensorflow.python.keras.applications import ResNet50\n",
        "from tensorflow.python.keras.models import Sequential\n",
        "from tensorflow.python.keras.layers import Dense"
      ],
      "execution_count": 0,
      "outputs": []
    },
    {
      "cell_type": "code",
      "metadata": {
        "id": "KU6dhZL8NnKq",
        "colab_type": "code",
        "colab": {}
      },
      "source": [
        "resnet_weights_path = '/content/drive/My Drive/ColabNotebooks/resnet50/resnet50_weights_tf_dim_ordering_tf_kernels_notop.h5'"
      ],
      "execution_count": 0,
      "outputs": []
    },
    {
      "cell_type": "code",
      "metadata": {
        "id": "nYVtEDxzNnHz",
        "colab_type": "code",
        "outputId": "4d00a986-39e7-446e-a0e4-592f79f285d1",
        "colab": {
          "base_uri": "https://localhost:8080/",
          "height": 125
        }
      },
      "source": [
        "#Still not talking about our train/test data or any pre-processing.\n",
        "\n",
        "model = Sequential()\n",
        "\n",
        "# 1st layer as the lumpsum weights from resnet50_weights_tf_dim_ordering_tf_kernels_notop.h5\n",
        "# NOTE that this layer will be set below as NOT TRAINABLE, i.e., use it as is\n",
        "model.add(ResNet50(include_top = True, pooling = 'max', weights = 'imagenet')), Dropout(0.25),\n",
        "\n",
        "# 2nd layer as Dense for 2-class classification, i.e., dog or cat using SoftMax activation\n",
        "model.add(Dense(6, activation = 'softmax',kernel_regularizer=regularizers.l2(0.01))), Dropout(0.1)\n",
        "\n",
        "# Say not to train first layer (ResNet) model as it is already trained\n",
        "model.layers[0].trainable = True"
      ],
      "execution_count": 0,
      "outputs": [
        {
          "output_type": "stream",
          "text": [
            "WARNING:tensorflow:From /usr/local/lib/python3.6/dist-packages/keras/backend/tensorflow_backend.py:66: The name tf.get_default_graph is deprecated. Please use tf.compat.v1.get_default_graph instead.\n",
            "\n",
            "WARNING:tensorflow:From /usr/local/lib/python3.6/dist-packages/tensorflow/python/ops/init_ops.py:1251: calling VarianceScaling.__init__ (from tensorflow.python.ops.init_ops) with dtype is deprecated and will be removed in a future version.\n",
            "Instructions for updating:\n",
            "Call initializer instance with the dtype argument instead of passing it to the constructor\n"
          ],
          "name": "stdout"
        }
      ]
    },
    {
      "cell_type": "code",
      "metadata": {
        "id": "LIEXMnJ08NdC",
        "colab_type": "code",
        "outputId": "659a9bdc-1e82-4a93-b76d-b2a90c0e05cb",
        "colab": {
          "base_uri": "https://localhost:8080/",
          "height": 34
        }
      },
      "source": [
        "import keras\n",
        "keras.__version__"
      ],
      "execution_count": 0,
      "outputs": [
        {
          "output_type": "execute_result",
          "data": {
            "text/plain": [
              "'2.2.5'"
            ]
          },
          "metadata": {
            "tags": []
          },
          "execution_count": 7
        }
      ]
    },
    {
      "cell_type": "code",
      "metadata": {
        "id": "cQYXffp7NnE3",
        "colab_type": "code",
        "outputId": "6dcdaeb4-9a5d-46a3-e02f-262419645d86",
        "colab": {
          "base_uri": "https://localhost:8080/",
          "height": 230
        }
      },
      "source": [
        "model.summary()"
      ],
      "execution_count": 0,
      "outputs": [
        {
          "output_type": "stream",
          "text": [
            "Model: \"sequential\"\n",
            "_________________________________________________________________\n",
            "Layer (type)                 Output Shape              Param #   \n",
            "=================================================================\n",
            "resnet50 (Model)             (None, 2048)              23587712  \n",
            "_________________________________________________________________\n",
            "dense (Dense)                (None, 6)                 12294     \n",
            "=================================================================\n",
            "Total params: 23,600,006\n",
            "Trainable params: 23,546,886\n",
            "Non-trainable params: 53,120\n",
            "_________________________________________________________________\n"
          ],
          "name": "stdout"
        }
      ]
    },
    {
      "cell_type": "code",
      "metadata": {
        "id": "IQwfeX7VNnCG",
        "colab_type": "code",
        "colab": {}
      },
      "source": [
        "from tensorflow.python.keras import optimizers\n",
        "\n",
        "# sgd = optimizers.SGD(lr = 0.01, decay = 1e-6, momentum = 0.9, nesterov = True)\n",
        "model.compile(optimizer = 'adam', loss = 'categorical_crossentropy', metrics = ['accuracy'])"
      ],
      "execution_count": 0,
      "outputs": []
    },
    {
      "cell_type": "code",
      "metadata": {
        "id": "QJv1iXoZ12dE",
        "colab_type": "code",
        "outputId": "617e4d8f-1d35-4cc0-8c07-b5027efc8720",
        "colab": {
          "base_uri": "https://localhost:8080/",
          "height": 52
        }
      },
      "source": [
        "from keras.applications.resnet50 import preprocess_input\n",
        "from keras.preprocessing.image import ImageDataGenerator\n",
        "\n",
        "image_size = IMAGE_RESIZE\n",
        "# preprocessing_function is applied on each image but only after re-sizing & augmentation (resize => augment => pre-process)\n",
        "# Each of the keras.application.resnet* preprocess_input MOSTLY mean BATCH NORMALIZATION (applied on each batch) stabilize the inputs to nonlinear activation functions\n",
        "# Batch Normalization helps in faster convergence\n",
        "data_generator = ImageDataGenerator(preprocessing_function=preprocess_input)\n",
        "\n",
        "# flow_From_directory generates batches of augmented data (where augmentation can be color conversion, etc)\n",
        "# Both train & valid folders must have NUM_CLASSES sub-folders\n",
        "train_generator = data_generator.flow_from_directory(\n",
        "        '/content/drive/My Drive/ColabNotebooks/TM imagesCNN',\n",
        "        target_size=(image_size, image_size),\n",
        "        batch_size=32,\n",
        "        class_mode='categorical')\n",
        "\n",
        "validation_generator = data_generator.flow_from_directory(\n",
        "        '/content/drive/My Drive/ColabNotebooks/TM imagesCNN',\n",
        "        target_size=(image_size, image_size),\n",
        "        batch_size=16,\n",
        "        class_mode='categorical') \n"
      ],
      "execution_count": 0,
      "outputs": [
        {
          "output_type": "stream",
          "text": [
            "Found 238 images belonging to 6 classes.\n",
            "Found 238 images belonging to 6 classes.\n"
          ],
          "name": "stdout"
        }
      ]
    },
    {
      "cell_type": "code",
      "metadata": {
        "id": "MFp24RJz7mkQ",
        "colab_type": "code",
        "outputId": "9e6e2948-1b73-4bb6-dfa1-d075c57d763b",
        "colab": {
          "base_uri": "https://localhost:8080/",
          "height": 34
        }
      },
      "source": [
        "# Max number of steps that these generator will have opportunity to process their source content\n",
        "# len(train_generator) should be 'no. of available train images / BATCH_SIZE_TRAINING'\n",
        "# len(valid_generator) should be 'no. of available train images / BATCH_SIZE_VALIDATION'\n",
        "(BATCH_SIZE_TRAINING, len(train_generator), BATCH_SIZE_VALIDATION, len(validation_generator))"
      ],
      "execution_count": 0,
      "outputs": [
        {
          "output_type": "execute_result",
          "data": {
            "text/plain": [
              "(32, 8, 16, 15)"
            ]
          },
          "metadata": {
            "tags": []
          },
          "execution_count": 11
        }
      ]
    },
    {
      "cell_type": "code",
      "metadata": {
        "id": "kcgte2926Z05",
        "colab_type": "code",
        "colab": {}
      },
      "source": [
        ""
      ],
      "execution_count": 0,
      "outputs": []
    },
    {
      "cell_type": "code",
      "metadata": {
        "id": "vqx-us06LiW0",
        "colab_type": "code",
        "colab": {}
      },
      "source": [
        "# Early stopping & checkpointing the best model in ../working dir & restoring that as our model for prediction\n",
        "from tensorflow.python.keras.callbacks import EarlyStopping, ModelCheckpoint\n",
        "\n",
        "cb_early_stopper = EarlyStopping(monitor = 'val_loss', patience = EARLY_STOP_PATIENCE)\n",
        "cb_checkpointer = ModelCheckpoint(filepath = './best.hdf5', monitor = 'val_loss', save_best_only = True, mode = 'auto')"
      ],
      "execution_count": 0,
      "outputs": []
    },
    {
      "cell_type": "code",
      "metadata": {
        "id": "8X1sZI2QT-pb",
        "colab_type": "code",
        "outputId": "df2c32ec-c2e0-4e4a-f886-b31d28c62ee0",
        "colab": {
          "base_uri": "https://localhost:8080/",
          "height": 550
        }
      },
      "source": [
        "fit_history = model.fit_generator(\n",
        "        train_generator,\n",
        "        steps_per_epoch=10,\n",
        "        epochs = 15,\n",
        "        validation_data=validation_generator,\n",
        "        validation_steps=10,\n",
        "        callbacks=[cb_checkpointer]\n",
        ")\n",
        "model.load_weights(\"./best.hdf5\")"
      ],
      "execution_count": 0,
      "outputs": [
        {
          "output_type": "stream",
          "text": [
            "Epoch 1/15\n",
            "10/10 [==============================] - 310s 31s/step - loss: 17.9206 - acc: 0.2947 - val_loss: 108.5551 - val_acc: 0.3688\n",
            "Epoch 2/15\n",
            "10/10 [==============================] - 282s 28s/step - loss: 7.3362 - acc: 0.4470 - val_loss: 37451.3982 - val_acc: 0.0625\n",
            "Epoch 3/15\n",
            "10/10 [==============================] - 268s 27s/step - loss: 4.4226 - acc: 0.5246 - val_loss: 11810.5823 - val_acc: 0.3688\n",
            "Epoch 4/15\n",
            "10/10 [==============================] - 295s 30s/step - loss: 13.6291 - acc: 0.3874 - val_loss: 28157.7234 - val_acc: 0.0938\n",
            "Epoch 5/15\n",
            "10/10 [==============================] - 284s 28s/step - loss: 8.2611 - acc: 0.3444 - val_loss: 2070.2381 - val_acc: 0.1250\n",
            "Epoch 6/15\n",
            "10/10 [==============================] - 267s 27s/step - loss: 5.5709 - acc: 0.3275 - val_loss: 9054.7856 - val_acc: 0.0625\n",
            "Epoch 7/15\n",
            "10/10 [==============================] - 279s 28s/step - loss: 2.0365 - acc: 0.5430 - val_loss: 2610.9000 - val_acc: 0.0625\n",
            "Epoch 8/15\n",
            "10/10 [==============================] - 292s 29s/step - loss: 1.4799 - acc: 0.5927 - val_loss: 4913.9442 - val_acc: 0.0625\n",
            "Epoch 9/15\n",
            "10/10 [==============================] - 282s 28s/step - loss: 1.0619 - acc: 0.7252 - val_loss: 1071.3421 - val_acc: 0.0625\n",
            "Epoch 10/15\n",
            "10/10 [==============================] - 274s 27s/step - loss: 1.4031 - acc: 0.7077 - val_loss: 1073.6219 - val_acc: 0.0625\n",
            "Epoch 11/15\n",
            "10/10 [==============================] - 280s 28s/step - loss: 0.9400 - acc: 0.8113 - val_loss: 64.7074 - val_acc: 0.0625\n",
            "Epoch 12/15\n",
            "10/10 [==============================] - 292s 29s/step - loss: 1.0569 - acc: 0.7616 - val_loss: 12.8360 - val_acc: 0.1312\n",
            "Epoch 13/15\n",
            "10/10 [==============================] - 266s 27s/step - loss: 0.6879 - acc: 0.8521 - val_loss: 15.6496 - val_acc: 0.1437\n",
            "Epoch 14/15\n",
            "10/10 [==============================] - 302s 30s/step - loss: 0.5468 - acc: 0.8625 - val_loss: 9.0966 - val_acc: 0.2313\n",
            "Epoch 15/15\n",
            "10/10 [==============================] - 263s 26s/step - loss: 0.3896 - acc: 0.9296 - val_loss: 20.6084 - val_acc: 0.0812\n"
          ],
          "name": "stdout"
        }
      ]
    },
    {
      "cell_type": "code",
      "metadata": {
        "id": "hsK7XB5EUOri",
        "colab_type": "code",
        "outputId": "e6e1b0f7-36ea-4124-8f96-71b670c8b53c",
        "colab": {
          "base_uri": "https://localhost:8080/",
          "height": 550
        }
      },
      "source": [
        "fit_history = model.fit_generator(\n",
        "        train_generator,\n",
        "        steps_per_epoch=10,\n",
        "        epochs = 15,\n",
        "        validation_data=validation_generator,\n",
        "        validation_steps=10,\n",
        "        callbacks=[cb_checkpointer]\n",
        ")\n",
        "model.load_weights(\"./best.hdf5\")"
      ],
      "execution_count": 0,
      "outputs": [
        {
          "output_type": "stream",
          "text": [
            "Epoch 1/15\n",
            "10/10 [==============================] - 291s 29s/step - loss: 0.2320 - acc: 0.9636 - val_loss: 15.7265 - val_acc: 0.1312\n",
            "Epoch 2/15\n",
            "10/10 [==============================] - 284s 28s/step - loss: 0.2122 - acc: 0.9603 - val_loss: 17.4522 - val_acc: 0.0625\n",
            "Epoch 3/15\n",
            "10/10 [==============================] - 268s 27s/step - loss: 0.1357 - acc: 0.9930 - val_loss: 8.7722 - val_acc: 0.2500\n",
            "Epoch 4/15\n",
            "10/10 [==============================] - 290s 29s/step - loss: 0.1356 - acc: 0.9901 - val_loss: 2.6112 - val_acc: 0.4437\n",
            "Epoch 5/15\n",
            "10/10 [==============================] - 282s 28s/step - loss: 0.1232 - acc: 0.9934 - val_loss: 2.0237 - val_acc: 0.5437\n",
            "Epoch 6/15\n",
            "10/10 [==============================] - 284s 28s/step - loss: 0.1175 - acc: 1.0000 - val_loss: 1.1076 - val_acc: 0.7000\n",
            "Epoch 7/15\n",
            "10/10 [==============================] - 283s 28s/step - loss: 0.1163 - acc: 0.9967 - val_loss: 1.2678 - val_acc: 0.6687\n",
            "Epoch 8/15\n",
            "10/10 [==============================] - 275s 28s/step - loss: 0.1147 - acc: 1.0000 - val_loss: 0.4407 - val_acc: 0.8875\n",
            "Epoch 9/15\n",
            "10/10 [==============================] - 280s 28s/step - loss: 0.1157 - acc: 0.9967 - val_loss: 0.3931 - val_acc: 0.8938\n",
            "Epoch 10/15\n",
            "10/10 [==============================] - 286s 29s/step - loss: 0.1126 - acc: 1.0000 - val_loss: 0.4430 - val_acc: 0.8750\n",
            "Epoch 11/15\n",
            "10/10 [==============================] - 267s 27s/step - loss: 0.1093 - acc: 1.0000 - val_loss: 0.4298 - val_acc: 0.8938\n",
            "Epoch 12/15\n",
            "10/10 [==============================] - 289s 29s/step - loss: 0.1094 - acc: 1.0000 - val_loss: 0.3029 - val_acc: 0.9312\n",
            "Epoch 13/15\n",
            "10/10 [==============================] - 284s 28s/step - loss: 0.1086 - acc: 1.0000 - val_loss: 0.1695 - val_acc: 0.9750\n",
            "Epoch 14/15\n",
            "10/10 [==============================] - 297s 30s/step - loss: 0.1085 - acc: 1.0000 - val_loss: 0.1374 - val_acc: 0.9875\n",
            "Epoch 15/15\n",
            "10/10 [==============================] - 275s 27s/step - loss: 0.1080 - acc: 1.0000 - val_loss: 0.1259 - val_acc: 0.9875\n"
          ],
          "name": "stdout"
        }
      ]
    },
    {
      "cell_type": "code",
      "metadata": {
        "id": "WNHSsD-mPi4d",
        "colab_type": "code",
        "colab": {}
      },
      "source": [
        "model.save('overfitting.h5')"
      ],
      "execution_count": 0,
      "outputs": []
    },
    {
      "cell_type": "code",
      "metadata": {
        "id": "FBPGXW3pB0Fk",
        "colab_type": "code",
        "colab": {}
      },
      "source": [
        "weights_path = './best.hdf5'\n",
        "def load_trained_model(weights_path):\n",
        "   model = create_model()\n",
        "   model.load_weights(weights_path)"
      ],
      "execution_count": 0,
      "outputs": []
    },
    {
      "cell_type": "code",
      "metadata": {
        "id": "Lc6WPV_hXEr8",
        "colab_type": "code",
        "outputId": "4f9f024f-8d8c-4a7f-ac7b-2fe304733eaa",
        "colab": {
          "base_uri": "https://localhost:8080/",
          "height": 34
        }
      },
      "source": [
        "test_generator = data_generator.flow_from_directory(\n",
        "        '/content/drive/My Drive/ColabNotebooks/test',\n",
        "        target_size=(image_size, image_size),\n",
        "        batch_size=32,\n",
        "        class_mode='categorical')\n"
      ],
      "execution_count": 0,
      "outputs": [
        {
          "output_type": "stream",
          "text": [
            "Found 3 images belonging to 3 classes.\n"
          ],
          "name": "stdout"
        }
      ]
    },
    {
      "cell_type": "code",
      "metadata": {
        "id": "9TFsHkLEXPJE",
        "colab_type": "code",
        "outputId": "e0e27b61-2d96-43db-d59b-7a4027443406",
        "colab": {
          "base_uri": "https://localhost:8080/",
          "height": 34
        }
      },
      "source": [
        "print(fit_history.history.keys())"
      ],
      "execution_count": 0,
      "outputs": [
        {
          "output_type": "stream",
          "text": [
            "dict_keys(['loss', 'acc', 'val_loss', 'val_acc'])\n"
          ],
          "name": "stdout"
        }
      ]
    },
    {
      "cell_type": "code",
      "metadata": {
        "id": "pccbwnvgYOhy",
        "colab_type": "code",
        "outputId": "9c6c07fe-4c3d-4f02-c572-dcf4e4e83821",
        "colab": {
          "base_uri": "https://localhost:8080/",
          "height": 275
        }
      },
      "source": [
        " plt.figure(1, figsize = (15,8)) \n",
        "    \n",
        "plt.subplot(221)  \n",
        "plt.plot(fit_history.history['acc'])  \n",
        "plt.plot(fit_history.history['val_acc'])  \n",
        "plt.title('model accuracy')  \n",
        "plt.ylabel('accuracy')  \n",
        "plt.xlabel('epoch')  \n",
        "plt.legend(['train', 'valid']) \n",
        "    \n",
        "plt.subplot(222)  \n",
        "plt.plot(fit_history.history['loss'])  \n",
        "plt.plot(fit_history.history['val_loss'])  \n",
        "plt.title('model loss')  \n",
        "plt.ylabel('loss')  \n",
        "plt.xlabel('epoch')  \n",
        "plt.legend(['train', 'valid']) \n",
        "\n",
        "plt.show()"
      ],
      "execution_count": 0,
      "outputs": [
        {
          "output_type": "display_data",
          "data": {
            "image/png": "[encoded data removed]",
            "text/plain": [
              "<Figure size 1080x576 with 2 Axes>"
            ]
          },
          "metadata": {
            "tags": []
          }
        }
      ]
    },
    {
      "cell_type": "code",
      "metadata": {
        "id": "C0Opj1FuYSS5",
        "colab_type": "code",
        "outputId": "7847b64c-4d03-4f1a-b250-e906d08f8831",
        "colab": {
          "base_uri": "https://localhost:8080/",
          "height": 34
        }
      },
      "source": [
        "# Reset before each call to predict\n",
        "test_generator.reset()\n",
        "\n",
        "pred = model.predict_generator(test_generator, steps = len(test_generator), verbose = 1)\n",
        "\n",
        "predicted_class_indices = np.argmax(pred, axis = 1)"
      ],
      "execution_count": 0,
      "outputs": [
        {
          "output_type": "stream",
          "text": [
            "\r1/1 [==============================] - 3s 3s/step\n"
          ],
          "name": "stdout"
        }
      ]
    },
    {
      "cell_type": "code",
      "metadata": {
        "id": "IxuGwkl2qogN",
        "colab_type": "code",
        "colab": {}
      },
      "source": [
        ""
      ],
      "execution_count": 0,
      "outputs": []
    }
  ]
}